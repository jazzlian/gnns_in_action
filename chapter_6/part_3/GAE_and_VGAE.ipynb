{
  "nbformat": 4,
  "nbformat_minor": 0,
  "metadata": {
    "colab": {
      "provenance": []
    },
    "kernelspec": {
      "name": "python3",
      "display_name": "Python 3"
    },
    "language_info": {
      "name": "python"
    },
    "gpuClass": "standard"
  },
  "cells": [
    {
      "cell_type": "markdown",
      "source": [
        "# Part 1: Initial EDA and benchmarking \n",
        "## Dataloading \n",
        "  \n",
        "Covering: \n",
        "  - one-hot encoding\n",
        "  - sparse tensors \n",
        "  - making data objects for PyG\n",
        "  - train/val/test splits\n"
      ],
      "metadata": {
        "id": "alTzqU0g86hx"
      }
    },
    {
      "cell_type": "code",
      "execution_count": null,
      "metadata": {
        "colab": {
          "base_uri": "https://localhost:8080/"
        },
        "id": "KjKLoCUUJ-Tb",
        "outputId": "f67007d2-ac08-4a7e-d86b-90d6b840475d"
      },
      "outputs": [
        {
          "output_type": "stream",
          "name": "stdout",
          "text": [
            "/content/drive/MyDrive/GNN_in_action/VGAE\n"
          ]
        }
      ],
      "source": [
        "cd drive/MyDrive/GNN_in_action/VGAE\n"
      ]
    },
    {
      "cell_type": "code",
      "source": [
        "# Install required packages.\n",
        "import os\n",
        "import torch\n",
        "os.environ['TORCH'] = torch.__version__\n",
        "print(torch.__version__)\n",
        "\n",
        "!pip install -q torch-scatter -f https://data.pyg.org/whl/torch-${TORCH}.html\n",
        "!pip install -q torch-sparse -f https://data.pyg.org/whl/torch-${TORCH}.html\n",
        "!pip install -q git+https://github.com/pyg-team/pytorch_geometric.git\n"
      ],
      "metadata": {
        "colab": {
          "base_uri": "https://localhost:8080/"
        },
        "id": "dQUBAvk5Ka16",
        "outputId": "ffc9377b-d2e7-4e26-e12c-cb4ce189b896"
      },
      "execution_count": null,
      "outputs": [
        {
          "output_type": "stream",
          "name": "stdout",
          "text": [
            "1.12.1+cu113\n"
          ]
        }
      ]
    },
    {
      "cell_type": "code",
      "source": [
        "import numpy as np\n",
        "import glob"
      ],
      "metadata": {
        "id": "CW8LSAcyKMYg"
      },
      "execution_count": null,
      "outputs": []
    },
    {
      "cell_type": "code",
      "source": [
        "filename = 'data/new_AMZN_electronics.npz'"
      ],
      "metadata": {
        "id": "3H5eMoE3t19d"
      },
      "execution_count": null,
      "outputs": []
    },
    {
      "cell_type": "code",
      "source": [
        "#get data (where this has already been pre-processed to show how to convert to sparse matrix)\n",
        "data = np.load(filename)\n",
        "\n",
        "loader = dict(data)\n",
        "print(loader)\n",
        "\n",
        "adj_matrix = torch.tensor(loader['adj_data'])\n",
        "feature_matrix = torch.tensor(loader['attr_data'])\n",
        "labels = loader['labels']\n",
        "\n",
        "class_names = loader.get('class_names')\n",
        "metadata = loader.get('metadata')"
      ],
      "metadata": {
        "colab": {
          "base_uri": "https://localhost:8080/"
        },
        "id": "KHYpwH32Kh6B",
        "outputId": "7b22a1e0-84a6-48c6-9f7b-d57d5ce1ccf8"
      },
      "execution_count": null,
      "outputs": [
        {
          "output_type": "stream",
          "name": "stdout",
          "text": [
            "{'adj_data': array([[0., 0., 0., ..., 0., 0., 0.],\n",
            "       [0., 0., 0., ..., 0., 0., 0.],\n",
            "       [0., 0., 0., ..., 0., 0., 0.],\n",
            "       ...,\n",
            "       [0., 0., 0., ..., 0., 0., 0.],\n",
            "       [0., 0., 0., ..., 0., 0., 0.],\n",
            "       [0., 0., 0., ..., 0., 0., 0.]], dtype=float32), 'attr_data': array([[0., 0., 0., ..., 0., 1., 0.],\n",
            "       [0., 0., 0., ..., 0., 0., 0.],\n",
            "       [0., 1., 0., ..., 0., 0., 1.],\n",
            "       ...,\n",
            "       [0., 1., 0., ..., 0., 0., 0.],\n",
            "       [1., 1., 0., ..., 0., 0., 0.],\n",
            "       [0., 0., 0., ..., 0., 0., 1.]], dtype=float32), 'labels': array([6, 4, 3, ..., 1, 2, 3]), 'class_names': array(['Film Photography', 'Digital Cameras', 'Binoculars & Scopes',\n",
            "       'Lenses', 'Tripods & Monopods', 'Video Surveillance',\n",
            "       'Lighting & Studio', 'Flashes'], dtype='<U19')}\n"
          ]
        }
      ]
    },
    {
      "cell_type": "code",
      "source": [],
      "metadata": {
        "id": "6WDzGTCeCrpY"
      },
      "execution_count": null,
      "outputs": []
    },
    {
      "cell_type": "code",
      "source": [
        "\n",
        "[print(i, c) for i,c in zip(list(loader.get('class_names')) , np.unique(loader.get('labels')))]"
      ],
      "metadata": {
        "colab": {
          "base_uri": "https://localhost:8080/"
        },
        "id": "ae8wF4l1WU_P",
        "outputId": "c798f67a-49d2-4fb8-acfa-159ed101138c"
      },
      "execution_count": null,
      "outputs": [
        {
          "output_type": "stream",
          "name": "stdout",
          "text": [
            "Film Photography 0\n",
            "Digital Cameras 1\n",
            "Binoculars & Scopes 2\n",
            "Lenses 3\n",
            "Tripods & Monopods 4\n",
            "Video Surveillance 5\n",
            "Lighting & Studio 6\n",
            "Flashes 7\n"
          ]
        },
        {
          "output_type": "execute_result",
          "data": {
            "text/plain": [
              "[None, None, None, None, None, None, None, None]"
            ]
          },
          "metadata": {},
          "execution_count": 6
        }
      ]
    },
    {
      "cell_type": "code",
      "source": [
        "print(f'Number of items = {feature_matrix.shape[0]}, Number of features = {feature_matrix.shape[1]}')\n",
        "\n",
        "print(f'Number of items = {adj_matrix.shape[0]} connected to {adj_matrix.shape[1]} items')\n",
        "\n",
        "print(f'Number of items = {feature_matrix.shape[0]}, Number of labels = {labels.shape[0]}')"
      ],
      "metadata": {
        "colab": {
          "base_uri": "https://localhost:8080/"
        },
        "id": "9G50cE-QW1eF",
        "outputId": "5ed9691f-6e19-48d0-9500-f887e917402e"
      },
      "execution_count": null,
      "outputs": [
        {
          "output_type": "stream",
          "name": "stdout",
          "text": [
            "Number of items = 7650, Number of features = 745\n",
            "Number of items = 7650 connected to 7650 items\n",
            "Number of items = 7650, Number of labels = 7650\n"
          ]
        }
      ]
    },
    {
      "cell_type": "code",
      "source": [
        "#Example of one-hot encoding of text features in the data for node 0\n",
        "feature_matrix[0,:]"
      ],
      "metadata": {
        "colab": {
          "base_uri": "https://localhost:8080/"
        },
        "id": "o8-vCSXH2QUS",
        "outputId": "9b1c4a66-704c-49f6-bf5a-2f3cb37bde20"
      },
      "execution_count": null,
      "outputs": [
        {
          "output_type": "execute_result",
          "data": {
            "text/plain": [
              "tensor([0., 0., 0., 0., 0., 0., 0., 0., 0., 0., 0., 0., 0., 0., 0., 0., 0., 0.,\n",
              "        0., 0., 1., 0., 0., 0., 0., 0., 0., 1., 0., 0., 0., 0., 0., 0., 0., 0.,\n",
              "        0., 0., 0., 1., 0., 0., 0., 0., 0., 0., 0., 1., 0., 0., 1., 0., 0., 0.,\n",
              "        0., 1., 0., 0., 0., 1., 0., 0., 0., 1., 0., 0., 0., 0., 0., 0., 0., 0.,\n",
              "        0., 0., 1., 0., 0., 1., 0., 1., 1., 0., 0., 0., 0., 0., 0., 0., 0., 0.,\n",
              "        0., 0., 0., 1., 0., 0., 0., 0., 0., 0., 0., 0., 0., 0., 0., 0., 0., 0.,\n",
              "        0., 1., 0., 1., 0., 0., 0., 0., 0., 0., 0., 0., 0., 0., 0., 0., 0., 0.,\n",
              "        0., 0., 0., 0., 0., 1., 1., 0., 0., 0., 0., 0., 0., 0., 1., 0., 0., 0.,\n",
              "        0., 0., 0., 0., 0., 0., 0., 0., 0., 0., 0., 0., 0., 0., 1., 0., 0., 0.,\n",
              "        0., 0., 0., 0., 0., 0., 0., 0., 1., 0., 0., 0., 0., 0., 0., 0., 0., 0.,\n",
              "        0., 1., 1., 0., 0., 0., 0., 0., 0., 0., 1., 0., 0., 0., 0., 0., 0., 0.,\n",
              "        1., 0., 0., 0., 0., 0., 0., 0., 0., 0., 0., 0., 1., 0., 0., 0., 0., 0.,\n",
              "        0., 0., 0., 0., 0., 1., 1., 1., 0., 0., 0., 0., 0., 0., 0., 0., 1., 0.,\n",
              "        1., 1., 0., 0., 0., 1., 1., 0., 1., 0., 0., 0., 0., 0., 0., 0., 0., 0.,\n",
              "        0., 0., 0., 0., 0., 0., 0., 0., 0., 0., 0., 0., 0., 0., 0., 0., 0., 0.,\n",
              "        0., 1., 0., 0., 1., 0., 0., 0., 0., 0., 0., 0., 0., 0., 0., 0., 0., 0.,\n",
              "        0., 0., 1., 1., 0., 0., 0., 1., 0., 0., 0., 1., 0., 0., 0., 0., 0., 0.,\n",
              "        0., 0., 0., 0., 0., 0., 0., 0., 0., 0., 0., 0., 1., 0., 0., 0., 0., 0.,\n",
              "        0., 0., 0., 0., 0., 0., 0., 1., 0., 0., 0., 1., 0., 0., 1., 0., 0., 0.,\n",
              "        0., 0., 1., 0., 0., 0., 0., 0., 0., 0., 0., 0., 0., 0., 0., 0., 0., 0.,\n",
              "        0., 0., 0., 0., 0., 0., 0., 0., 0., 0., 0., 0., 0., 1., 0., 0., 0., 1.,\n",
              "        0., 0., 0., 0., 0., 1., 0., 0., 0., 0., 0., 0., 0., 0., 0., 0., 0., 0.,\n",
              "        0., 0., 0., 0., 0., 0., 0., 0., 0., 0., 0., 1., 0., 1., 0., 0., 1., 0.,\n",
              "        0., 1., 1., 1., 0., 0., 0., 0., 0., 1., 0., 0., 0., 0., 1., 0., 1., 0.,\n",
              "        0., 0., 0., 1., 0., 0., 0., 0., 0., 1., 0., 0., 0., 0., 1., 0., 0., 0.,\n",
              "        0., 0., 0., 0., 0., 0., 1., 0., 0., 0., 0., 0., 0., 0., 0., 0., 1., 0.,\n",
              "        1., 0., 0., 1., 0., 0., 0., 0., 0., 0., 1., 0., 0., 0., 0., 1., 0., 0.,\n",
              "        0., 0., 0., 0., 0., 0., 1., 0., 0., 0., 0., 0., 0., 0., 0., 0., 0., 0.,\n",
              "        0., 0., 0., 0., 0., 0., 0., 0., 0., 0., 0., 1., 0., 0., 1., 0., 0., 0.,\n",
              "        0., 0., 0., 0., 0., 0., 0., 0., 0., 0., 0., 0., 0., 0., 0., 0., 0., 1.,\n",
              "        1., 0., 0., 0., 0., 1., 0., 0., 0., 0., 0., 0., 0., 0., 0., 0., 0., 0.,\n",
              "        1., 0., 0., 0., 0., 0., 0., 0., 1., 0., 0., 1., 0., 0., 1., 0., 1., 0.,\n",
              "        0., 0., 0., 0., 0., 0., 1., 0., 1., 0., 0., 0., 0., 0., 0., 1., 0., 0.,\n",
              "        0., 0., 0., 0., 1., 0., 0., 0., 1., 0., 0., 0., 0., 0., 0., 0., 0., 1.,\n",
              "        0., 0., 1., 0., 0., 0., 0., 0., 0., 0., 0., 0., 0., 0., 0., 0., 0., 1.,\n",
              "        0., 0., 0., 0., 1., 0., 0., 0., 0., 0., 0., 0., 0., 0., 0., 1., 0., 0.,\n",
              "        0., 0., 0., 0., 0., 0., 1., 0., 0., 1., 0., 0., 0., 0., 0., 0., 1., 0.,\n",
              "        0., 0., 0., 1., 1., 0., 0., 0., 0., 0., 0., 0., 0., 0., 0., 0., 0., 0.,\n",
              "        0., 0., 0., 0., 0., 0., 1., 0., 0., 0., 0., 0., 0., 0., 1., 0., 1., 0.,\n",
              "        0., 1., 1., 0., 0., 0., 0., 0., 0., 0., 1., 0., 0., 0., 1., 0., 1., 0.,\n",
              "        0., 0., 0., 0., 0., 0., 0., 0., 0., 0., 1., 0., 0., 0., 0., 0., 0., 0.,\n",
              "        0., 0., 0., 0., 0., 1., 0.])"
            ]
          },
          "metadata": {},
          "execution_count": 8
        }
      ]
    },
    {
      "cell_type": "code",
      "source": [
        "# from torch_sparse import SparseTensor\n"
      ],
      "metadata": {
        "id": "ezV9GXn3XZSQ"
      },
      "execution_count": null,
      "outputs": []
    },
    {
      "cell_type": "code",
      "source": [
        "from torch_sparse import SparseTensor\n",
        "# Convert to sparse matrix\n",
        "edge_index = adj_matrix.nonzero(as_tuple=False).t()\n",
        "edge_weight = adj_matrix[edge_index[0], edge_index[1]]\n",
        "num_nodes = len(labels)\n",
        "\n",
        "adj = SparseTensor(row=edge_index[0], col=edge_index[1],\n",
        "                   sparse_sizes=(num_nodes, num_nodes))\n",
        "\n"
      ],
      "metadata": {
        "id": "woVXkPeHwsZK"
      },
      "execution_count": null,
      "outputs": []
    },
    {
      "cell_type": "code",
      "source": [
        "edge_index[1]"
      ],
      "metadata": {
        "colab": {
          "base_uri": "https://localhost:8080/"
        },
        "id": "1NqITho2FrL-",
        "outputId": "e8448c72-bd9b-4ea4-ae72-48ed2c4bd92e"
      },
      "execution_count": null,
      "outputs": [
        {
          "output_type": "execute_result",
          "data": {
            "text/plain": [
              "tensor([1210, 2198, 2239,  ..., 2239, 3295, 4196])"
            ]
          },
          "metadata": {},
          "execution_count": 11
        }
      ]
    },
    {
      "cell_type": "code",
      "source": [
        "#construct data object\n",
        "\n",
        "from torch_geometric.data import Data\n",
        "\n",
        "data = Data(x=feature_matrix, y=labels, adj_t=adj)\n",
        "\n",
        "data"
      ],
      "metadata": {
        "colab": {
          "base_uri": "https://localhost:8080/"
        },
        "id": "otA_zE7OKqZX",
        "outputId": "3c1d5f08-a85b-493e-b1a0-3ec2507d1ab7"
      },
      "execution_count": null,
      "outputs": [
        {
          "output_type": "execute_result",
          "data": {
            "text/plain": [
              "Data(x=[7650, 745], y=[7650], adj_t=[7650, 7650, nnz=143663])"
            ]
          },
          "metadata": {},
          "execution_count": 12
        }
      ]
    },
    {
      "cell_type": "code",
      "source": [
        "# Split (for node prediction)\n",
        "\n",
        "from torch_geometric.transforms import RandomNodeSplit, RandomLinkSplit\n",
        "\n",
        "transform = RandomLinkSplit()\n",
        "transform(data)"
      ],
      "metadata": {
        "colab": {
          "base_uri": "https://localhost:8080/"
        },
        "id": "axIvQI12Leta",
        "outputId": "2a0151bd-c437-4abe-b5f8-6a7a410d0676"
      },
      "execution_count": null,
      "outputs": [
        {
          "output_type": "execute_result",
          "data": {
            "text/plain": [
              "(Data(x=[7650, 745], y=[7650], adj_t=[7650, 7650, nnz=143663], edge_index=[2, 100565], edge_label=[201130], edge_label_index=[2, 201130]),\n",
              " Data(x=[7650, 745], y=[7650], adj_t=[7650, 7650, nnz=143663], edge_index=[2, 100565], edge_label=[28732], edge_label_index=[2, 28732]),\n",
              " Data(x=[7650, 745], y=[7650], adj_t=[7650, 7650, nnz=143663], edge_index=[2, 114931], edge_label=[57464], edge_label_index=[2, 57464]))"
            ]
          },
          "metadata": {},
          "execution_count": 13
        }
      ]
    },
    {
      "cell_type": "code",
      "source": [
        "from sklearn.metrics import roc_auc_score\n",
        "import torch_geometric.transforms as T\n",
        "from torch_geometric.utils import negative_sampling"
      ],
      "metadata": {
        "id": "-o_SNZNBL5Li"
      },
      "execution_count": null,
      "outputs": []
    },
    {
      "cell_type": "code",
      "source": [
        "from torch_geometric.nn import GAE, VGAE, GCNConv\n",
        "\n",
        "class GCNEncoder(torch.nn.Module):\n",
        "    def __init__(self, input_size, layers, latent_dims):\n",
        "        super().__init__()\n",
        "        self.layer0 = GCNConv(input_size, layers[0])\n",
        "        self.layer1 = GCNConv(layers[0], layers[1])\n",
        "        self.layer2 = GCNConv(layers[1], latent_dims)\n",
        "\n",
        "    def forward(self, x, edge_index):\n",
        "        x = self.layer0(x, edge_index).relu()\n",
        "        x = self.layer1(x, edge_index).relu()\n",
        "        return self.layer2(x, edge_index)\n",
        "\n",
        "class InnerProductDecoder(torch.nn.Module):\n",
        "    def __init__(self):\n",
        "        super().__init__()\n",
        "  \n",
        "    def forward(self, z, edge_index):\n",
        "        value = (z[edge_index[0]] * z[edge_index[1]]).sum(dim=1)\n",
        "        return torch.sigmoid(value)\n",
        "\n",
        "class GraphAutoEncoder(torch.nn.Module):\n",
        "    def __init__(self, input_size, layers, latent_dims):\n",
        "        super().__init__()\n",
        "        self.encoder = GCNEncoder(input_size, layers, latent_dims)\n",
        "        self.decoder = InnerProductDecoder()\n",
        "\n",
        "    def forward(self, x):\n",
        "        z = self.encoder(x)\n",
        "        return self.decoder(z)"
      ],
      "metadata": {
        "id": "l8iF9ETsMx7G"
      },
      "execution_count": null,
      "outputs": []
    },
    {
      "cell_type": "code",
      "source": [
        "class VariationalGCNEncoder(torch.nn.Module):\n",
        "  def __init__(self, input_size, layers, latent_dims):\n",
        "    super().__init__()\n",
        "    self.layer0 = GCNConv(input_size, layers[0])\n",
        "    self.layer1 = GCNConv(layers[0], layers[1])\n",
        "    self.mu = GCNConv(layers[1], latent_dims)\n",
        "    self.logvar = GCNConv(layers[1], latent_dims)\n",
        "    \n",
        "  def forward(self, x, edge_index):\n",
        "    x = self.layer0(x, edge_index).relu()\n",
        "    x = self.layer1(x, edge_index).relu()\n",
        "    mu = self.mu(x, edge_index)\n",
        "    logvar = self.logvar(x, edge_index)\n",
        "    if self.train():\n",
        "       return mu, logvar\n",
        "\n",
        "class InnerProductDecoder(torch.nn.Module):\n",
        "    def __init__(self):\n",
        "        super().__init__()\n",
        "  \n",
        "    def forward(self, z, edge_index):\n",
        "        value = (z[edge_index[0]] * z[edge_index[1]]).sum(dim=1)\n",
        "        return torch.sigmoid(value)\n",
        "\n",
        "class GraphAutoEncoder(torch.nn.Module):\n",
        "    def __init__(self, input_size, layers, latent_dims):\n",
        "        super().__init__()\n",
        "        self.encoder = GCNEncoder(input_size, layers, latent_dims)\n",
        "        self.decoder = InnerProductDecoder()\n",
        "\n",
        "    def forward(self, x):\n",
        "        z = self.encoder(x)\n",
        "        return self.decoder(z)"
      ],
      "metadata": {
        "id": "nzDvVrF1VXk-"
      },
      "execution_count": null,
      "outputs": []
    },
    {
      "cell_type": "code",
      "source": [
        "\n",
        "class GCNEncoder(torch.nn.Module): #B\n",
        "    def __init__(self, input_size, layers, latent_dim): #B\n",
        "        super().__init__()\n",
        "        self.conv0 = GCNConv(input_size, layers[0]) #C\n",
        "        self.conv1 = GCNConv(layers[0], layers[1]) #C\n",
        "        self.conv2 = GCNConv(layers[1], latent_dim) #C\n",
        "\n",
        "    def forward(self, x, edge_index): #D\n",
        "        x = self.conv0(x, edge_index).relu()#D\n",
        "        x = self.conv1(x, edge_index).relu()#D\n",
        "        return self.conv2(x, edge_index) #D\n",
        "\n",
        "\n",
        "class VariationalGCNEncoder(torch.nn.Module): #A\n",
        "  def __init__(self, input_size, layers, latent_dims):\n",
        "    super().__init__()\n",
        "    self.layer0 = GCNConv(input_size, layers[0])\n",
        "    self.layer1 = GCNConv(layers[0], layers[1])\n",
        "    self.mu = GCNConv(layers[1], latent_dims)\n",
        "    self.logvar = GCNConv(layers[1], latent_dims)\n",
        "    \n",
        "  def forward(self, x, edge_index):\n",
        "    x = self.layer0(x, edge_index).relu()\n",
        "    x = self.layer1(x, edge_index).relu()\n",
        "    mu = self.mu(x, edge_index)\n",
        "    logvar = self.logvar(x, edge_index)\n",
        "    return mu, logvar\n",
        "\n"
      ],
      "metadata": {
        "id": "r4Qm9DThh5tT"
      },
      "execution_count": null,
      "outputs": []
    },
    {
      "cell_type": "code",
      "source": [
        "device = torch.device('cuda' if torch.cuda.is_available() else 'cpu')\n",
        "transform = T.Compose([\n",
        "    T.NormalizeFeatures(),\n",
        "    T.ToDevice(device),\n",
        "    T.RandomLinkSplit(num_val=0.05, num_test=0.1, is_undirected=True,\n",
        "                      add_negative_train_samples=False),\n",
        "])"
      ],
      "metadata": {
        "id": "pIbsHRJSfbJr"
      },
      "execution_count": null,
      "outputs": []
    },
    {
      "cell_type": "code",
      "source": [
        "train_data, val_data, test_data = transform(data)"
      ],
      "metadata": {
        "id": "LzIJzNsBfmT7"
      },
      "execution_count": null,
      "outputs": []
    },
    {
      "cell_type": "code",
      "source": [
        "def train(model, criterion, optimizer):\n",
        "    \n",
        "    model.train() \n",
        "  \n",
        "    optimizer.zero_grad() \n",
        "    z = model.encode(train_data.x, train_data.edge_index) \n",
        "\n",
        "    # We perform a new round of negative sampling for every training epoch:\n",
        "    neg_edge_index = negative_sampling(\n",
        "        edge_index=train_data.edge_index, num_nodes=train_data.num_nodes,\n",
        "        num_neg_samples=train_data.edge_label_index.size(1), method='sparse')\n",
        "    edge_label_index = torch.cat(\n",
        "        [train_data.edge_label_index, neg_edge_index],\n",
        "        dim=-1,\n",
        "    )\n",
        "    edge_label = torch.cat([\n",
        "        train_data.edge_label,\n",
        "        train_data.edge_label.new_zeros(neg_edge_index.size(1))\n",
        "    ], dim=0)\n",
        "\n",
        "    out = model.decode(z, edge_label_index).view(-1) \n",
        "    loss = criterion(out, edge_label) + model.kl_loss() \n",
        "    loss.backward()\n",
        "    optimizer.step()\n",
        "\n",
        "    return loss\n",
        "        "
      ],
      "metadata": {
        "id": "wLStnJKIOOgL"
      },
      "execution_count": null,
      "outputs": []
    },
    {
      "cell_type": "code",
      "source": [
        "num_features = feature_matrix.shape[1]\n",
        "variational = True\n",
        "\n",
        "input_size, latent_dims = num_features, 16\n",
        "layers = [512, 256]\n",
        "if not variational:\n",
        "  model = GAE(GCNEncoder(input_size, layers, latent_dims))\n",
        "else:\n",
        "  model = VGAE(VariationalGCNEncoder(input_size, layers, latent_dims))\n",
        "model = model.to(device)\n",
        "optimizer = torch.optim.Adam(model.parameters(), lr=0.01)\n",
        "criterion = torch.nn.BCEWithLogitsLoss()\n"
      ],
      "metadata": {
        "id": "gEOSr1dShqW8"
      },
      "execution_count": null,
      "outputs": []
    },
    {
      "cell_type": "code",
      "source": [
        "\n",
        "@torch.no_grad()\n",
        "def test(data):\n",
        "    model.eval()\n",
        "    z = model.encode(data.x, data.edge_index)\n",
        "    out = model.decode(z, data.edge_label_index).view(-1).sigmoid()\n",
        "    return roc_auc_score(data.edge_label.cpu().numpy(), out.cpu().numpy())\n",
        "\n",
        "                                                          # |                 "
      ],
      "metadata": {
        "id": "Y1IrbxRkgH7D"
      },
      "execution_count": null,
      "outputs": []
    },
    {
      "cell_type": "code",
      "source": [
        "print(linear, variational)\n",
        "best_val_auc = final_test_auc = 0\n",
        "for epoch in range(1, 201):\n",
        "    loss = train(model, criterion,optimizer)\n",
        "    val_auc = test(val_data)\n",
        "    test_auc = test(test_data)\n",
        "    if val_auc > best_val_auc:\n",
        "        best_val_auc = val_auc\n",
        "        final_test_auc = test_auc\n",
        "    print(f'Epoch: {epoch:03d}, Loss: {loss:.4f}, Val: {val_auc:.4f}, '\n",
        "          f'Test: {test_auc:.4f}')\n",
        "\n",
        "print(f'Final Test: {final_test_auc:.4f}')\n",
        "\n"
      ],
      "metadata": {
        "colab": {
          "base_uri": "https://localhost:8080/"
        },
        "id": "gfAcBIFxgKAH",
        "outputId": "cb0c9848-0a8b-47c9-d42d-75438ab137b5"
      },
      "execution_count": null,
      "outputs": [
        {
          "output_type": "stream",
          "name": "stdout",
          "text": [
            "True True\n",
            "Epoch: 001, Loss: 0.7414, Val: 0.8177, Test: 0.8137\n",
            "Epoch: 002, Loss: 0.9697, Val: 0.8148, Test: 0.8102\n",
            "Epoch: 003, Loss: 0.7447, Val: 0.8027, Test: 0.7986\n",
            "Epoch: 004, Loss: 0.7442, Val: 0.7947, Test: 0.7899\n",
            "Epoch: 005, Loss: 0.7456, Val: 0.3467, Test: 0.3485\n",
            "Epoch: 006, Loss: 0.7465, Val: 0.1803, Test: 0.1843\n",
            "Epoch: 007, Loss: 0.7461, Val: 0.1856, Test: 0.1898\n",
            "Epoch: 008, Loss: 0.7457, Val: 0.2640, Test: 0.2734\n",
            "Epoch: 009, Loss: 0.7451, Val: 0.6866, Test: 0.6878\n",
            "Epoch: 010, Loss: 0.7453, Val: 0.7579, Test: 0.7552\n",
            "Epoch: 011, Loss: 0.7453, Val: 0.7621, Test: 0.7586\n",
            "Epoch: 012, Loss: 0.7437, Val: 0.7324, Test: 0.7331\n",
            "Epoch: 013, Loss: 0.7440, Val: 0.6337, Test: 0.6350\n",
            "Epoch: 014, Loss: 0.7434, Val: 0.4408, Test: 0.4467\n",
            "Epoch: 015, Loss: 0.7424, Val: 0.3072, Test: 0.3138\n",
            "Epoch: 016, Loss: 0.7436, Val: 0.2974, Test: 0.3045\n",
            "Epoch: 017, Loss: 0.7435, Val: 0.3986, Test: 0.4044\n",
            "Epoch: 018, Loss: 0.7428, Val: 0.5704, Test: 0.5735\n",
            "Epoch: 019, Loss: 0.7430, Val: 0.6895, Test: 0.6919\n",
            "Epoch: 020, Loss: 0.7430, Val: 0.7276, Test: 0.7287\n",
            "Epoch: 021, Loss: 0.7428, Val: 0.7245, Test: 0.7258\n",
            "Epoch: 022, Loss: 0.7426, Val: 0.6978, Test: 0.7005\n",
            "Epoch: 023, Loss: 0.7436, Val: 0.6316, Test: 0.6339\n",
            "Epoch: 024, Loss: 0.7427, Val: 0.5539, Test: 0.5578\n",
            "Epoch: 025, Loss: 0.7429, Val: 0.4956, Test: 0.5010\n",
            "Epoch: 026, Loss: 0.7427, Val: 0.4901, Test: 0.4960\n",
            "Epoch: 027, Loss: 0.7420, Val: 0.5320, Test: 0.5364\n",
            "Epoch: 028, Loss: 0.7427, Val: 0.5987, Test: 0.6023\n",
            "Epoch: 029, Loss: 0.7423, Val: 0.6505, Test: 0.6535\n",
            "Epoch: 030, Loss: 0.7419, Val: 0.6813, Test: 0.6853\n",
            "Epoch: 031, Loss: 0.7423, Val: 0.6862, Test: 0.6916\n",
            "Epoch: 032, Loss: 0.7424, Val: 0.6958, Test: 0.7000\n",
            "Epoch: 033, Loss: 0.7421, Val: 0.6909, Test: 0.6962\n",
            "Epoch: 034, Loss: 0.7423, Val: 0.6889, Test: 0.6944\n",
            "Epoch: 035, Loss: 0.7417, Val: 0.6806, Test: 0.6849\n",
            "Epoch: 036, Loss: 0.7428, Val: 0.6563, Test: 0.6578\n",
            "Epoch: 037, Loss: 0.7413, Val: 0.6075, Test: 0.6072\n",
            "Epoch: 038, Loss: 0.7429, Val: 0.5486, Test: 0.5441\n",
            "Epoch: 039, Loss: 0.7428, Val: 0.5296, Test: 0.5270\n",
            "Epoch: 040, Loss: 0.7432, Val: 0.5664, Test: 0.5599\n",
            "Epoch: 041, Loss: 0.7422, Val: 0.6327, Test: 0.6246\n",
            "Epoch: 042, Loss: 0.7414, Val: 0.6343, Test: 0.6341\n",
            "Epoch: 043, Loss: 0.7414, Val: 0.6031, Test: 0.6018\n",
            "Epoch: 044, Loss: 0.7410, Val: 0.5765, Test: 0.5825\n",
            "Epoch: 045, Loss: 0.7427, Val: 0.5269, Test: 0.5262\n",
            "Epoch: 046, Loss: 0.7423, Val: 0.5459, Test: 0.5463\n",
            "Epoch: 047, Loss: 0.7422, Val: 0.5326, Test: 0.5286\n",
            "Epoch: 048, Loss: 0.7418, Val: 0.6084, Test: 0.6125\n",
            "Epoch: 049, Loss: 0.7429, Val: 0.5564, Test: 0.5642\n",
            "Epoch: 050, Loss: 0.7423, Val: 0.5878, Test: 0.5951\n",
            "Epoch: 051, Loss: 0.7419, Val: 0.5867, Test: 0.5896\n",
            "Epoch: 052, Loss: 0.7422, Val: 0.5141, Test: 0.5147\n",
            "Epoch: 053, Loss: 0.7419, Val: 0.4999, Test: 0.5001\n",
            "Epoch: 054, Loss: 0.7423, Val: 0.4999, Test: 0.5008\n",
            "Epoch: 055, Loss: 0.7413, Val: 0.5001, Test: 0.5000\n",
            "Epoch: 056, Loss: 0.7425, Val: 0.4691, Test: 0.4640\n",
            "Epoch: 057, Loss: 0.7420, Val: 0.4961, Test: 0.4938\n",
            "Epoch: 058, Loss: 0.7422, Val: 0.4963, Test: 0.4922\n",
            "Epoch: 059, Loss: 0.7434, Val: 0.4798, Test: 0.4819\n",
            "Epoch: 060, Loss: 0.7420, Val: 0.4698, Test: 0.4601\n",
            "Epoch: 061, Loss: 0.7425, Val: 0.5006, Test: 0.5001\n",
            "Epoch: 062, Loss: 0.7432, Val: 0.4739, Test: 0.4626\n",
            "Epoch: 063, Loss: 0.7424, Val: 0.4982, Test: 0.4990\n",
            "Epoch: 064, Loss: 0.7421, Val: 0.4981, Test: 0.4990\n",
            "Epoch: 065, Loss: 0.7423, Val: 0.5000, Test: 0.5000\n",
            "Epoch: 066, Loss: 0.7422, Val: 0.5000, Test: 0.5000\n",
            "Epoch: 067, Loss: 0.7422, Val: 0.5000, Test: 0.5000\n",
            "Epoch: 068, Loss: 0.7438, Val: 0.5000, Test: 0.5000\n",
            "Epoch: 069, Loss: 0.7429, Val: 0.5010, Test: 0.5031\n",
            "Epoch: 070, Loss: 0.7428, Val: 0.4997, Test: 0.5008\n",
            "Epoch: 071, Loss: 0.7426, Val: 0.5187, Test: 0.5255\n",
            "Epoch: 072, Loss: 0.7417, Val: 0.5000, Test: 0.5000\n",
            "Epoch: 073, Loss: 0.7424, Val: 0.4992, Test: 0.5000\n",
            "Epoch: 074, Loss: 0.7427, Val: 0.5000, Test: 0.5000\n",
            "Epoch: 075, Loss: 0.7410, Val: 0.5000, Test: 0.5000\n",
            "Epoch: 076, Loss: 0.7415, Val: 0.5000, Test: 0.5000\n",
            "Epoch: 077, Loss: 0.7414, Val: 0.5000, Test: 0.5000\n",
            "Epoch: 078, Loss: 0.7439, Val: 0.5006, Test: 0.4998\n",
            "Epoch: 079, Loss: 0.7418, Val: 0.5000, Test: 0.5000\n",
            "Epoch: 080, Loss: 0.7426, Val: 0.5000, Test: 0.5000\n",
            "Epoch: 081, Loss: 0.7426, Val: 0.5000, Test: 0.5000\n",
            "Epoch: 082, Loss: 0.7415, Val: 0.5000, Test: 0.5000\n",
            "Epoch: 083, Loss: 0.7421, Val: 0.5000, Test: 0.5000\n",
            "Epoch: 084, Loss: 0.7424, Val: 0.4997, Test: 0.5002\n",
            "Epoch: 085, Loss: 0.7424, Val: 0.5000, Test: 0.5000\n",
            "Epoch: 086, Loss: 0.7422, Val: 0.5080, Test: 0.5086\n",
            "Epoch: 087, Loss: 0.7416, Val: 0.5000, Test: 0.5000\n",
            "Epoch: 088, Loss: 0.7433, Val: 0.4981, Test: 0.4990\n",
            "Epoch: 089, Loss: 0.7439, Val: 0.5000, Test: 0.5000\n",
            "Epoch: 090, Loss: 0.7426, Val: 0.5000, Test: 0.5000\n",
            "Epoch: 091, Loss: 0.7419, Val: 0.5000, Test: 0.5000\n",
            "Epoch: 092, Loss: 0.7427, Val: 0.5001, Test: 0.4998\n",
            "Epoch: 093, Loss: 0.7425, Val: 0.5000, Test: 0.5000\n",
            "Epoch: 094, Loss: 0.7429, Val: 0.5000, Test: 0.5000\n",
            "Epoch: 095, Loss: 0.7422, Val: 0.5000, Test: 0.5000\n",
            "Epoch: 096, Loss: 0.7426, Val: 0.5000, Test: 0.5000\n",
            "Epoch: 097, Loss: 0.7420, Val: 0.5000, Test: 0.5000\n",
            "Epoch: 098, Loss: 0.7420, Val: 0.4999, Test: 0.5001\n",
            "Epoch: 099, Loss: 0.7423, Val: 0.5000, Test: 0.5000\n",
            "Epoch: 100, Loss: 0.7413, Val: 0.5000, Test: 0.5000\n",
            "Epoch: 101, Loss: 0.7418, Val: 0.5000, Test: 0.5000\n",
            "Epoch: 102, Loss: 0.7426, Val: 0.5000, Test: 0.5000\n",
            "Epoch: 103, Loss: 0.7413, Val: 0.5000, Test: 0.5000\n",
            "Epoch: 104, Loss: 0.7418, Val: 0.5000, Test: 0.5000\n",
            "Epoch: 105, Loss: 0.7414, Val: 0.5000, Test: 0.5000\n",
            "Epoch: 106, Loss: 0.7422, Val: 0.5000, Test: 0.5000\n",
            "Epoch: 107, Loss: 0.7414, Val: 0.5000, Test: 0.5000\n",
            "Epoch: 108, Loss: 0.7432, Val: 0.5000, Test: 0.5000\n",
            "Epoch: 109, Loss: 0.7425, Val: 0.5000, Test: 0.5000\n",
            "Epoch: 110, Loss: 0.7424, Val: 0.5000, Test: 0.5000\n",
            "Epoch: 111, Loss: 0.7416, Val: 0.5000, Test: 0.5000\n",
            "Epoch: 112, Loss: 0.7421, Val: 0.5000, Test: 0.5000\n",
            "Epoch: 113, Loss: 0.7432, Val: 0.5072, Test: 0.5092\n",
            "Epoch: 114, Loss: 0.7418, Val: 0.5000, Test: 0.5001\n",
            "Epoch: 115, Loss: 0.7428, Val: 0.5000, Test: 0.5000\n",
            "Epoch: 116, Loss: 0.7417, Val: 0.5000, Test: 0.5000\n",
            "Epoch: 117, Loss: 0.7431, Val: 0.5000, Test: 0.5000\n",
            "Epoch: 118, Loss: 0.7418, Val: 0.5000, Test: 0.5000\n",
            "Epoch: 119, Loss: 0.7420, Val: 0.5000, Test: 0.5000\n",
            "Epoch: 120, Loss: 0.7415, Val: 0.5000, Test: 0.5000\n",
            "Epoch: 121, Loss: 0.7420, Val: 0.5000, Test: 0.5000\n",
            "Epoch: 122, Loss: 0.7421, Val: 0.5000, Test: 0.5000\n",
            "Epoch: 123, Loss: 0.7417, Val: 0.5000, Test: 0.5000\n",
            "Epoch: 124, Loss: 0.7418, Val: 0.5000, Test: 0.5000\n",
            "Epoch: 125, Loss: 0.7431, Val: 0.5000, Test: 0.5000\n",
            "Epoch: 126, Loss: 0.7415, Val: 0.4996, Test: 0.5003\n",
            "Epoch: 127, Loss: 0.7421, Val: 0.5000, Test: 0.5000\n",
            "Epoch: 128, Loss: 0.7425, Val: 0.5000, Test: 0.5000\n",
            "Epoch: 129, Loss: 0.7422, Val: 0.5000, Test: 0.5000\n",
            "Epoch: 130, Loss: 0.7429, Val: 0.5000, Test: 0.5000\n",
            "Epoch: 131, Loss: 0.7428, Val: 0.5000, Test: 0.5000\n",
            "Epoch: 132, Loss: 0.7422, Val: 0.5000, Test: 0.5000\n",
            "Epoch: 133, Loss: 0.7425, Val: 0.5000, Test: 0.5000\n",
            "Epoch: 134, Loss: 0.7413, Val: 0.5001, Test: 0.4998\n",
            "Epoch: 135, Loss: 0.7424, Val: 0.5000, Test: 0.5000\n",
            "Epoch: 136, Loss: 0.7427, Val: 0.5000, Test: 0.5000\n",
            "Epoch: 137, Loss: 0.7427, Val: 0.5000, Test: 0.5000\n",
            "Epoch: 138, Loss: 0.7421, Val: 0.5000, Test: 0.5000\n",
            "Epoch: 139, Loss: 0.7418, Val: 0.5000, Test: 0.5000\n",
            "Epoch: 140, Loss: 0.7426, Val: 0.5000, Test: 0.5000\n",
            "Epoch: 141, Loss: 0.7422, Val: 0.5000, Test: 0.5000\n",
            "Epoch: 142, Loss: 0.7417, Val: 0.5000, Test: 0.5000\n",
            "Epoch: 143, Loss: 0.7426, Val: 0.5000, Test: 0.5000\n",
            "Epoch: 144, Loss: 0.7420, Val: 0.5000, Test: 0.5000\n",
            "Epoch: 145, Loss: 0.7427, Val: 0.5000, Test: 0.5000\n",
            "Epoch: 146, Loss: 0.7417, Val: 0.5000, Test: 0.4999\n",
            "Epoch: 147, Loss: 0.7416, Val: 0.5000, Test: 0.5000\n",
            "Epoch: 148, Loss: 0.7432, Val: 0.5000, Test: 0.5000\n",
            "Epoch: 149, Loss: 0.7419, Val: 0.4981, Test: 0.4990\n",
            "Epoch: 150, Loss: 0.7436, Val: 0.4696, Test: 0.4672\n",
            "Epoch: 151, Loss: 0.7418, Val: 0.5000, Test: 0.5000\n",
            "Epoch: 152, Loss: 0.7420, Val: 0.5000, Test: 0.5000\n",
            "Epoch: 153, Loss: 0.7421, Val: 0.5000, Test: 0.5000\n",
            "Epoch: 154, Loss: 0.7421, Val: 0.5000, Test: 0.5001\n",
            "Epoch: 155, Loss: 0.7423, Val: 0.5000, Test: 0.5000\n",
            "Epoch: 156, Loss: 0.7424, Val: 0.5000, Test: 0.5000\n",
            "Epoch: 157, Loss: 0.7412, Val: 0.4981, Test: 0.4990\n",
            "Epoch: 158, Loss: 0.7418, Val: 0.5000, Test: 0.5000\n",
            "Epoch: 159, Loss: 0.7419, Val: 0.5000, Test: 0.5000\n",
            "Epoch: 160, Loss: 0.7422, Val: 0.5000, Test: 0.5000\n",
            "Epoch: 161, Loss: 0.7421, Val: 0.5000, Test: 0.5000\n",
            "Epoch: 162, Loss: 0.7423, Val: 0.4660, Test: 0.4638\n",
            "Epoch: 163, Loss: 0.7418, Val: 0.5000, Test: 0.5000\n",
            "Epoch: 164, Loss: 0.7419, Val: 0.5000, Test: 0.5000\n",
            "Epoch: 165, Loss: 0.7422, Val: 0.5000, Test: 0.5001\n",
            "Epoch: 166, Loss: 0.7426, Val: 0.5000, Test: 0.5000\n",
            "Epoch: 167, Loss: 0.7424, Val: 0.5000, Test: 0.5000\n",
            "Epoch: 168, Loss: 0.7426, Val: 0.5000, Test: 0.5000\n",
            "Epoch: 169, Loss: 0.7431, Val: 0.5000, Test: 0.5000\n",
            "Epoch: 170, Loss: 0.7433, Val: 0.5000, Test: 0.5000\n",
            "Epoch: 171, Loss: 0.7419, Val: 0.5000, Test: 0.5000\n",
            "Epoch: 172, Loss: 0.7421, Val: 0.5000, Test: 0.5000\n",
            "Epoch: 173, Loss: 0.7417, Val: 0.5000, Test: 0.5000\n",
            "Epoch: 174, Loss: 0.7425, Val: 0.5000, Test: 0.5000\n",
            "Epoch: 175, Loss: 0.7413, Val: 0.5000, Test: 0.5000\n",
            "Epoch: 176, Loss: 0.7433, Val: 0.5000, Test: 0.5000\n",
            "Epoch: 177, Loss: 0.7417, Val: 0.5000, Test: 0.5000\n",
            "Epoch: 178, Loss: 0.7425, Val: 0.5000, Test: 0.5000\n",
            "Epoch: 179, Loss: 0.7422, Val: 0.5000, Test: 0.5000\n",
            "Epoch: 180, Loss: 0.7418, Val: 0.5000, Test: 0.5000\n",
            "Epoch: 181, Loss: 0.7420, Val: 0.5000, Test: 0.5001\n",
            "Epoch: 182, Loss: 0.7432, Val: 0.5000, Test: 0.5000\n",
            "Epoch: 183, Loss: 0.7424, Val: 0.5000, Test: 0.5000\n",
            "Epoch: 184, Loss: 0.7427, Val: 0.5000, Test: 0.5000\n",
            "Epoch: 185, Loss: 0.7420, Val: 0.5000, Test: 0.5000\n",
            "Epoch: 186, Loss: 0.7425, Val: 0.5000, Test: 0.5000\n",
            "Epoch: 187, Loss: 0.7415, Val: 0.5024, Test: 0.4992\n",
            "Epoch: 188, Loss: 0.7421, Val: 0.5000, Test: 0.5000\n",
            "Epoch: 189, Loss: 0.7426, Val: 0.5000, Test: 0.5000\n",
            "Epoch: 190, Loss: 0.7427, Val: 0.5011, Test: 0.5037\n",
            "Epoch: 191, Loss: 0.7412, Val: 0.5000, Test: 0.5000\n",
            "Epoch: 192, Loss: 0.7423, Val: 0.5000, Test: 0.5000\n",
            "Epoch: 193, Loss: 0.7413, Val: 0.5179, Test: 0.5227\n",
            "Epoch: 194, Loss: 0.7426, Val: 0.5000, Test: 0.5000\n",
            "Epoch: 195, Loss: 0.7421, Val: 0.4997, Test: 0.5001\n",
            "Epoch: 196, Loss: 0.7427, Val: 0.5000, Test: 0.5000\n",
            "Epoch: 197, Loss: 0.7420, Val: 0.5000, Test: 0.5000\n",
            "Epoch: 198, Loss: 0.7426, Val: 0.4670, Test: 0.4648\n",
            "Epoch: 199, Loss: 0.7423, Val: 0.4769, Test: 0.4725\n",
            "Epoch: 200, Loss: 0.7426, Val: 0.5000, Test: 0.4999\n",
            "Final Test: 0.8137\n"
          ]
        }
      ]
    },
    {
      "cell_type": "code",
      "source": [],
      "metadata": {
        "id": "GRq4M_4BgMo3"
      },
      "execution_count": null,
      "outputs": []
    },
    {
      "cell_type": "code",
      "source": [],
      "metadata": {
        "id": "OsqmphKpjgIf"
      },
      "execution_count": null,
      "outputs": []
    },
    {
      "cell_type": "code",
      "source": [],
      "metadata": {
        "id": "4I8j96N6KUJK"
      },
      "execution_count": null,
      "outputs": []
    }
  ]
}