{
 "cells": [
  {
   "cell_type": "code",
   "execution_count": null,
   "id": "21254c33",
   "metadata": {},
   "outputs": [],
   "source": []
  },
  {
   "cell_type": "code",
   "execution_count": 4,
   "id": "978acb64",
   "metadata": {},
   "outputs": [],
   "source": [
    "import matplotlib.pyplot as plt\n",
    "import numpy as np\n",
    "import tqdm"
   ]
  },
  {
   "cell_type": "code",
   "execution_count": 5,
   "id": "ee380d13",
   "metadata": {},
   "outputs": [],
   "source": [
    "from torchvision import datasets #to load datasets\n",
    "from torchvision.transforms import ToTensor #to make useful for torch"
   ]
  },
  {
   "cell_type": "code",
   "execution_count": 6,
   "id": "f773806a",
   "metadata": {},
   "outputs": [],
   "source": [
    "import torch #for various utility functions\n",
    "\n",
    "import torch.nn as nn #for model library\n",
    "import torch.nn.functional as F #for additional optimised routines\n",
    "\n",
    "from torch.utils.data import DataLoader #for an easy dataloader\n"
   ]
  },
  {
   "cell_type": "code",
   "execution_count": 7,
   "id": "b7916549",
   "metadata": {},
   "outputs": [],
   "source": [
    "from sklearn.ensemble import RandomForestClassifier\n",
    "from sklearn.metrics import accuracy_score\n",
    "from sklearn.preprocessing import StandardScaler\n",
    "from sklearn.decomposition import PCA"
   ]
  },
  {
   "cell_type": "code",
   "execution_count": 8,
   "id": "3aa25316",
   "metadata": {},
   "outputs": [],
   "source": [
    "train_dataset = datasets.MNIST(root = 'datasets', \n",
    "                               train = True, \n",
    "                               transform = ToTensor(),\n",
    "                               download = True) \n",
    "\n",
    "test_dataset = datasets.MNIST(root = 'datasets', \n",
    "                              train = False, \n",
    "                              transform = ToTensor(),\n",
    "                              download = True) \n"
   ]
  },
  {
   "cell_type": "code",
   "execution_count": 9,
   "id": "562dff67",
   "metadata": {},
   "outputs": [],
   "source": [
    "batch_size = 128\n",
    "loaders = {\n",
    "    'train' : torch.utils.data.DataLoader(train_dataset, \n",
    "                                          batch_size=batch_size, \n",
    "                                          shuffle=True, \n",
    "                                          num_workers=2),\n",
    "    \n",
    "    'test'  : torch.utils.data.DataLoader(test_dataset,                                         \n",
    "                                          shuffle=True, \n",
    "                                          num_workers=2),\n",
    "}\n"
   ]
  },
  {
   "cell_type": "code",
   "execution_count": 13,
   "id": "2d17c726",
   "metadata": {},
   "outputs": [],
   "source": [
    "class VariationalEncoder(nn.Module):\n",
    "    def __init__(self, input_size, layers, latent_dims):\n",
    "        super().__init__()\n",
    "        self.layer0 = nn.Linear(input_size, layers[0])\n",
    "        self.layer1 = nn.Linear(layers[0], layers[1])\n",
    "        self.layer2 = nn.Linear(layers[1], latent_dims*2)\n",
    "                \n",
    "    def forward(self, X): \n",
    "        X = torch.flatten(X, start_dim=1)\n",
    "        X = F.relu(self.layer0(X))\n",
    "        X = F.relu(self.layer1(X))\n",
    "        X = self.layer2(X).view(-1, 2, latent_dims)\n",
    "        \n",
    "        mu = X[:, 0, :] # the first feature values as mean\n",
    "        logvar = X[:, 1, :] # the other feature values as log variance\n",
    "        return mu, logvar\n",
    "        "
   ]
  },
  {
   "cell_type": "code",
   "execution_count": 14,
   "id": "22f33162",
   "metadata": {},
   "outputs": [],
   "source": [
    "class Decoder(nn.Module):\n",
    "    def __init__(self, latent_dims, layers, output_size):\n",
    "        super().__init__()\n",
    "        self.layer0 = nn.Linear(latent_dims, layers[1])\n",
    "        self.layer1 = nn.Linear(layers[1], layers[0])\n",
    "        self.layer2 = nn.Linear(layers[0], output_size)\n",
    "        \n",
    "    def forward(self, z): \n",
    "        z = F.relu(self.layer0(z))\n",
    "        z = F.relu(self.layer1(z))\n",
    "        return torch.sigmoid(self.layer2(z))"
   ]
  },
  {
   "cell_type": "code",
   "execution_count": 15,
   "id": "f1aaae02",
   "metadata": {},
   "outputs": [],
   "source": [
    "class VariationalAutoEncoder(nn.Module):\n",
    "    def __init__(self, input_size, layers, latent_dims):\n",
    "        super().__init__()\n",
    "        self.encoder = VariationalEncoder(input_size, layers, latent_dims)\n",
    "        self.decoder = Decoder(latent_dims, layers, input_size)\n",
    "\n",
    "    def reparametrize(self, mu, logvar):\n",
    "        # Reparametrization trick allows gradients from  stochastic part of the model\n",
    "        # to backpropagate from the\n",
    "        if self.training:\n",
    "            sigma = torch.exp(0.5*logvar)\n",
    "            z = torch.randn_like(sigma)\n",
    "            return z.mul(sigma).add_(mu)\n",
    "        else:\n",
    "            return mu\n",
    "        \n",
    "    def forward(self, x):\n",
    "        mu, logvar = self.encoder(x)\n",
    "        z = self.reparametrize(mu, logvar)\n",
    "        return self.decoder(z), mu, logvar"
   ]
  },
  {
   "cell_type": "code",
   "execution_count": 17,
   "id": "d6e1bdb5",
   "metadata": {},
   "outputs": [],
   "source": [
    "class VAE(nn.Module):\n",
    "    def __init__(self):\n",
    "        super(VAE, self).__init__()\n",
    "\n",
    "        self.fc1 = nn.Linear(784, 400)\n",
    "        self.fc21 = nn.Linear(400, 20)\n",
    "        self.fc22 = nn.Linear(400, 20)\n",
    "        self.fc3 = nn.Linear(20, 400)\n",
    "        self.fc4 = nn.Linear(400, 784)\n",
    "\n",
    "    def encode(self, x):\n",
    "        h1 = F.relu(self.fc1(x))\n",
    "        return self.fc21(h1), self.fc22(h1)\n",
    "\n",
    "    def reparameterize(self, mu, logvar):\n",
    "        if self.training:\n",
    "            std = torch.exp(0.5*logvar)\n",
    "            eps = torch.randn_like(std)\n",
    "            return eps.mul(std).add_(mu)\n",
    "        else:\n",
    "            return mu\n",
    "\n",
    "    def decode(self, z):\n",
    "        h3 = F.relu(self.fc3(z))\n",
    "        return torch.sigmoid(self.fc4(h3))\n",
    "\n",
    "    def forward(self, x):\n",
    "        mu, logvar = self.encode(x.view(-1, 784))\n",
    "        z = self.reparameterize(mu, logvar)\n",
    "        return self.decode(z), mu, logvar\n",
    "\n"
   ]
  },
  {
   "cell_type": "code",
   "execution_count": 18,
   "id": "8e7d435d",
   "metadata": {},
   "outputs": [],
   "source": [
    "input_size, latent_dims = 28*28, 2\n",
    "layers = [512, 256]\n",
    "\n",
    "model = VariationalAutoEncoder(input_size, layers, latent_dims)\n",
    "\n",
    "criterion = nn.MSELoss(reduction='sum')\n",
    "optimizer = torch.optim.Adam(model.parameters(), lr= 0.001)"
   ]
  },
  {
   "cell_type": "code",
   "execution_count": 19,
   "id": "3f537f4a",
   "metadata": {},
   "outputs": [],
   "source": [
    "def train(model, iterator, criterion, optimizer):\n",
    "    #initial train step\n",
    "    model.train()\n",
    "    \n",
    "    #zero the loss and accuracy\n",
    "    epoch_loss = 0\n",
    "    \n",
    "    for x,_ in tqdm.tqdm(iterator, desc=\"Evaluating\", leave=False):\n",
    "        #reset weights in optimizer\n",
    "        optimizer.zero_grad()\n",
    "\n",
    "        #predict using the model\n",
    "        xbar, mu, logvar  = model(x)\n",
    "        \n",
    "        #reshape to images\n",
    "        xbar = xbar.reshape((-1, 1, 28, 28))\n",
    "        \n",
    "        #calculate the loss        \n",
    "        kl_loss = (-0.5*(1+logvar - mu**2 -\n",
    "                 torch.exp(logvar)).sum(dim=1)).mean(dim=0)\n",
    "    \n",
    "        loss = criterion(xbar, x) + kl_loss\n",
    "\n",
    "        #propagate the loss backwards\n",
    "        loss.backward()\n",
    "        \n",
    "        #update the weights\n",
    "        optimizer.step()\n",
    "        \n",
    "        #update the loss\n",
    "        epoch_loss += loss.item()\n",
    "\n",
    "    print(f\"training loss: {epoch_loss /len(iterator):3.7}\")        \n",
    "        \n",
    "        "
   ]
  },
  {
   "cell_type": "code",
   "execution_count": null,
   "id": "9a267b9e",
   "metadata": {},
   "outputs": [
    {
     "name": "stderr",
     "output_type": "stream",
     "text": [
      "\r",
      "Evaluating:   0%|          | 0/469 [00:00<?, ?it/s]"
     ]
    },
    {
     "name": "stdout",
     "output_type": "stream",
     "text": [
      "Epoch: 1\n"
     ]
    },
    {
     "name": "stderr",
     "output_type": "stream",
     "text": [
      "Evaluating:   0%|          | 0/469 [00:00<?, ?it/s]          "
     ]
    },
    {
     "name": "stdout",
     "output_type": "stream",
     "text": [
      "training loss: 5537.852\n",
      "Epoch: 2\n"
     ]
    },
    {
     "name": "stderr",
     "output_type": "stream",
     "text": [
      "Evaluating:   0%|          | 0/469 [00:00<?, ?it/s]          "
     ]
    },
    {
     "name": "stdout",
     "output_type": "stream",
     "text": [
      "training loss: 4399.939\n",
      "Epoch: 3\n"
     ]
    },
    {
     "name": "stderr",
     "output_type": "stream",
     "text": [
      "Evaluating:   0%|          | 0/469 [00:00<?, ?it/s]          "
     ]
    },
    {
     "name": "stdout",
     "output_type": "stream",
     "text": [
      "training loss: 4163.838\n",
      "Epoch: 4\n"
     ]
    },
    {
     "name": "stderr",
     "output_type": "stream",
     "text": [
      "Evaluating:  61%|██████    | 285/469 [00:10<00:04, 41.04it/s]"
     ]
    }
   ],
   "source": [
    "epochs = 10\n",
    "\n",
    "for e in range(1,epochs):\n",
    "    print(f\"Epoch: {e}\")\n",
    "    train(model, loaders['train'], criterion, optimizer)\n",
    "    "
   ]
  },
  {
   "cell_type": "code",
   "execution_count": null,
   "id": "b53b1fcf",
   "metadata": {},
   "outputs": [],
   "source": []
  },
  {
   "cell_type": "code",
   "execution_count": null,
   "id": "50d12373",
   "metadata": {},
   "outputs": [],
   "source": [
    "@torch.no_grad()\n",
    "def evaluate(model, iterator, criterion, optimizer):\n",
    "    model.eval()\n",
    "    \n",
    "    #zero the loss\n",
    "    epoch_loss = 0\n",
    "    \n",
    "    for x,label in tqdm.tqdm(iterator, desc=\"Evaluating\", leave=False):\n",
    "        #predict using the model\n",
    "        xbar, mu, logvar = model(x)\n",
    "        \n",
    "        #reshape to images\n",
    "        xbar = xbar.reshape((-1, 1, 28, 28))\n",
    " \n",
    "        #calculate the loss\n",
    "        kl_loss = -0.5 * torch.sum(1 + logvar - mu.pow(2) - logvar.exp())\n",
    "        loss = criterion(xbar, x) + kl_loss\n",
    "\n",
    "        #update the loss\n",
    "        epoch_loss += loss.item()\n",
    "    \n",
    "    print(f\"test loss: {epoch_loss /len(iterator):3.7}\")        \n",
    "        \n",
    "        "
   ]
  },
  {
   "cell_type": "code",
   "execution_count": null,
   "id": "c1beaebc",
   "metadata": {},
   "outputs": [],
   "source": [
    "evaluate(model, loaders['test'], criterion, optimizer)\n",
    "    "
   ]
  },
  {
   "cell_type": "code",
   "execution_count": null,
   "id": "7c73c212",
   "metadata": {},
   "outputs": [],
   "source": [
    "# creating a file\n",
    "with open('VAE_MNIST.p', 'wb') as f:\n",
    "    torch.save(model, f)"
   ]
  },
  {
   "cell_type": "code",
   "execution_count": null,
   "id": "f8d02501",
   "metadata": {},
   "outputs": [],
   "source": [
    "# model(x[0])[-1]"
   ]
  },
  {
   "cell_type": "code",
   "execution_count": null,
   "id": "cd9cf7eb",
   "metadata": {},
   "outputs": [],
   "source": [
    "xbar = model(x[0])[0].detach().numpy()\n",
    "xbar = xbar.reshape((-1, 1, 28, 28))\n",
    "fig, ax = plt.subplots(2,4)\n",
    "for n in range(4):\n",
    "    ax[0][n].imshow(x[0][n][0])\n",
    "    ax[1][n].imshow(xbar[n][0])\n",
    "plt.show()"
   ]
  },
  {
   "cell_type": "code",
   "execution_count": null,
   "id": "f8e83f43",
   "metadata": {},
   "outputs": [],
   "source": [
    "latent_space = model.encoder(train_dataset.data.reshape(-1,28*28).float())"
   ]
  },
  {
   "cell_type": "code",
   "execution_count": null,
   "id": "4432d83c",
   "metadata": {},
   "outputs": [],
   "source": [
    "labels = train_dataset.targets.numpy()\n",
    "latent_space = latent_space[0].detach().numpy()"
   ]
  },
  {
   "cell_type": "code",
   "execution_count": null,
   "id": "433ce887",
   "metadata": {},
   "outputs": [],
   "source": [
    "latent_space.shape"
   ]
  },
  {
   "cell_type": "code",
   "execution_count": null,
   "id": "413fc2eb",
   "metadata": {},
   "outputs": [],
   "source": [
    "colors = plt.get_cmap('tab10')\n",
    "\n",
    "plt.figure(dpi=200)\n",
    "for i in range(10):\n",
    "    index = labels == i\n",
    "    plt.scatter(latent_space[index,0], latent_space[index,1], s=0.1, c=colors(labels[index]), label=i)\n",
    "plt.legend(markerscale=10)\n",
    "\n",
    "plt.xlabel('1st Dimension')\n",
    "plt.ylabel('2nd Dimension')"
   ]
  },
  {
   "cell_type": "code",
   "execution_count": null,
   "id": "a7c4db7c",
   "metadata": {},
   "outputs": [],
   "source": [
    "X_train = model.encoder(train_dataset.data.reshape(-1,28*28).float())[0].detach().numpy()\n",
    "y_train = train_dataset.targets.numpy()\n",
    "\n",
    "X_test = model.encoder(test_dataset.data.reshape(-1,28*28).float())[0].detach().numpy()\n",
    "y_test = test_dataset.targets.numpy()\n",
    "\n",
    "clf = RandomForestClassifier(max_depth=4, random_state=0)\n",
    "clf.fit(X_train, y_train)\n",
    "y_pred = clf.predict(X_test)\n",
    "\n",
    "print(accuracy_score(y_test, y_pred))"
   ]
  },
  {
   "cell_type": "code",
   "execution_count": null,
   "id": "2d0f1058",
   "metadata": {},
   "outputs": [],
   "source": []
  },
  {
   "cell_type": "code",
   "execution_count": null,
   "id": "56c7bd8e",
   "metadata": {},
   "outputs": [],
   "source": []
  }
 ],
 "metadata": {
  "kernelspec": {
   "display_name": "Python 3",
   "language": "python",
   "name": "python3"
  },
  "language_info": {
   "codemirror_mode": {
    "name": "ipython",
    "version": 3
   },
   "file_extension": ".py",
   "mimetype": "text/x-python",
   "name": "python",
   "nbconvert_exporter": "python",
   "pygments_lexer": "ipython3",
   "version": "3.9.13"
  }
 },
 "nbformat": 4,
 "nbformat_minor": 5
}
