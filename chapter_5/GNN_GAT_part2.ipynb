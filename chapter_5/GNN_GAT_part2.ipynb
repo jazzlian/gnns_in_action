{
 "cells": [
  {
   "cell_type": "markdown",
   "metadata": {
    "id": "WSLsxsxfw1vD"
   },
   "source": [
    "## Part 2: Introduction of GAT Architecture\n",
    "\n"
   ]
  },
  {
   "cell_type": "code",
   "execution_count": 1,
   "metadata": {
    "colab": {
     "base_uri": "https://localhost:8080/"
    },
    "id": "LOeCYigfUzj2",
    "outputId": "bf34b3a1-33d5-461a-a0ee-7c3bded6da8a"
   },
   "outputs": [
    {
     "name": "stdout",
     "output_type": "stream",
     "text": [
      "1.11.0\n"
     ]
    }
   ],
   "source": [
    "# Install required packages.\n",
    "import os\n",
    "import torch\n",
    "os.environ['TORCH'] = torch.__version__\n",
    "print(torch.__version__)\n",
    "\n",
    "# %pip install torch-scatter torch-sparse torch-cluster torch-spline-conv torch-geometric -f https://data.pyg.org/whl/torch-1.11.0+cu113.html"
   ]
  },
  {
   "cell_type": "code",
   "execution_count": 3,
   "metadata": {
    "id": "IklFp9XQDnRl"
   },
   "outputs": [],
   "source": [
    "from scipy.io import loadmat\n",
    "import pickle\n",
    "import numpy as np\n",
    "import matplotlib.pyplot as plt"
   ]
  },
  {
   "cell_type": "code",
   "execution_count": null,
   "metadata": {
    "id": "BUZJp63_Eqwx"
   },
   "outputs": [],
   "source": []
  },
  {
   "cell_type": "code",
   "execution_count": 4,
   "metadata": {
    "id": "i2YeDWDQDvhf"
   },
   "outputs": [],
   "source": [
    "\n",
    "prefix = 'data/'\n",
    "\n",
    "data_file = loadmat(prefix +  'YelpChi.mat')\n",
    "\n",
    "labels = data_file['label'].flatten()\n",
    "features = data_file['features'].todense().A\n",
    "# load the preprocessed adj_lists\n",
    "with open(prefix + 'yelp_homo_adjlists.pickle', 'rb') as file:\n",
    "    homogenous = pickle.load(file)\n",
    "file.close()\n"
   ]
  },
  {
   "cell_type": "code",
   "execution_count": 5,
   "metadata": {
    "id": "V-NoRecHG2x9"
   },
   "outputs": [],
   "source": [
    "# Prelim network EDA\n",
    "import networkx as nx\n"
   ]
  },
  {
   "cell_type": "code",
   "execution_count": 6,
   "metadata": {
    "id": "uIuJgxipEBiL"
   },
   "outputs": [
    {
     "name": "stdout",
     "output_type": "stream",
     "text": [
      "features dtype = float64, \n",
      "label dtype = int64\n"
     ]
    }
   ],
   "source": [
    "#Data needs to be translated into torch tensors when using pytorch geometric\n",
    "print(f'features dtype = {features.dtype}, \\n' + \n",
    "      f'label dtype = {labels.dtype}')\n"
   ]
  },
  {
   "cell_type": "code",
   "execution_count": 7,
   "metadata": {
    "id": "KpGGTGPJTry4"
   },
   "outputs": [],
   "source": [
    "# Same split of data into test and train\n",
    "from sklearn.model_selection import train_test_split \n",
    "split = 0.2\n",
    "indices = np.arange(len(features))\n",
    "\n",
    "xtrain, xtest, ytrain, ytest, idxtrain, idxtest = train_test_split(features, \n",
    "                                                                   labels,indices, \n",
    "                                                                   stratify=labels,\n",
    "                                                                   test_size = split, \n",
    "                                                                   random_state = 99)\n",
    "\n"
   ]
  },
  {
   "cell_type": "code",
   "execution_count": 9,
   "metadata": {
    "id": "0997XZ1q7E0D"
   },
   "outputs": [],
   "source": [
    "# from google.colab import drive\n",
    "# drive.mount('/content/drive')"
   ]
  },
  {
   "cell_type": "code",
   "execution_count": 10,
   "metadata": {
    "id": "b6oinFRTTu-T"
   },
   "outputs": [
    {
     "name": "stdout",
     "output_type": "stream",
     "text": [
      "Number of nodes: 45954\n",
      "Number of edges: 3892933\n",
      "Average node degree: 84.71\n"
     ]
    }
   ],
   "source": [
    "g = nx.Graph(homogenous)\n",
    "print(f'Number of nodes: {g.number_of_nodes()}')\n",
    "print(f'Number of edges: {g.number_of_edges()}')\n",
    "print(f'Average node degree: {len(g.edges) / len(g.nodes):.2f}')\n"
   ]
  },
  {
   "cell_type": "code",
   "execution_count": 11,
   "metadata": {
    "id": "pjcaJGB4Twxn"
   },
   "outputs": [],
   "source": [
    "# Convert to torch geometric datatype \n",
    "from torch_geometric.utils.convert import from_networkx\n",
    "\n",
    "data = from_networkx(g)\n",
    "data.x = torch.tensor(features).float()\n",
    "data.y = torch.tensor(labels)\n",
    "data.num_node_features = data.x.shape[-1]\n",
    "data.num_classes = 1 \n",
    "\n",
    "A = set(range(len(labels)))\n",
    "data.train_mask = torch.tensor([x in idxtrain for x in A])\n",
    "data.test_mask = torch.tensor([x in idxtest for x in A])"
   ]
  },
  {
   "cell_type": "code",
   "execution_count": 12,
   "metadata": {
    "id": "_9l-vlLeX0BL"
   },
   "outputs": [
    {
     "data": {
      "text/plain": [
       "Data(edge_index=[2, 7739912], num_nodes=45954, x=[45954, 32], y=[45954], num_node_features=32, num_classes=1, train_mask=[45954], test_mask=[45954])"
      ]
     },
     "execution_count": 12,
     "metadata": {},
     "output_type": "execute_result"
    }
   ],
   "source": [
    "import torch_geometric.transforms as T\n",
    "from torch_geometric.transforms import NormalizeFeatures\n",
    "\n",
    "transform = NormalizeFeatures()\n",
    "\n",
    "data"
   ]
  },
  {
   "cell_type": "code",
   "execution_count": null,
   "metadata": {
    "id": "64duk7yVVX-h"
   },
   "outputs": [],
   "source": [
    "from torch_geometric.nn import GCNConv, Linear\n",
    "import torch.nn.functional as F\n"
   ]
  },
  {
   "cell_type": "code",
   "execution_count": null,
   "metadata": {
    "id": "foOx2ru1VTBe"
   },
   "outputs": [],
   "source": [
    "class GCN(torch.nn.Module):\n",
    "    def __init__(self, hidden_layers = 64):\n",
    "        super().__init__()\n",
    "        torch.manual_seed(2022)\n",
    "        self.conv1 = GCNConv(data.num_node_features, hidden_layers)\n",
    "        self.conv2 = GCNConv(hidden_layers, 1)\n",
    "\n",
    "    def forward(self, data):\n",
    "        x, edge_index = data.x, data.edge_index\n",
    "\n",
    "        x = self.conv1(x, edge_index)\n",
    "        x = F.relu(x)\n",
    "        x = F.dropout(x, training=self.training)\n",
    "        x = self.conv2(x, edge_index)\n",
    "\n",
    "        return torch.sigmoid(x)\n"
   ]
  },
  {
   "cell_type": "code",
   "execution_count": null,
   "metadata": {
    "id": "gL4cm7BfV5l-"
   },
   "outputs": [],
   "source": [
    "# def train(criterion):\n",
    "#     model.train()\n",
    "#     optimizer.zero_grad()\n",
    "#     out = model(data).to_device()\n",
    "#     #for discussion on why masks is applied here, see: https://stackoverflow.com/questions/69019682/training-mask-not-used-in-pytorch-geometric-when-inputting-data-to-train-model\n",
    "#     loss = criterion(out[data.train_mask], data.y[data.train_mask].reshape(-1,1).float())\n",
    "#     loss.backward() \n",
    "#     optimizer.step()\n",
    "#     return float(loss)\n"
   ]
  },
  {
   "cell_type": "code",
   "execution_count": null,
   "metadata": {
    "id": "TvDRUlpGT1Xq"
   },
   "outputs": [],
   "source": [
    "from sklearn.metrics import roc_auc_score\n",
    "\n",
    "device = torch.device(\"cuda\" if torch.cuda.is_available() else \"cpu\")\n",
    "print(device)\n",
    "model = GCN()\n",
    "model.to(device)\n",
    "data.to(device)\n",
    "\n",
    "lr = 0.01\n",
    "epochs = 100\n",
    "\n",
    "optimizer = torch.optim.Adam(model.parameters(), lr=lr, weight_decay=5e-4)\n",
    "criterion = torch.nn.BCELoss()\n",
    "\n",
    "losses = []\n",
    "for e in range(epochs):    \n",
    "    model.train()\n",
    "    optimizer.zero_grad()\n",
    "    out = model(data)\n",
    "    #for discussion on why masks is applied here, see: https://stackoverflow.com/questions/69019682/training-mask-not-used-in-pytorch-geometric-when-inputting-data-to-train-model\n",
    "    #loss\n",
    "    loss = criterion(out[data.train_mask], data.y[data.train_mask].reshape(-1,1).float())\n",
    "    loss.backward()\n",
    "    losses.append(loss.item())\n",
    "\n",
    "    optimizer.step()\n",
    "\n",
    "    #accuracy\n",
    "    ypred = model(data).clone().cpu()\n",
    "    pred = data.y[data.test_mask].clone().cpu().detach().numpy()\n",
    "    true = ypred[data.test_mask].detach().numpy()\n",
    "    acc = roc_auc_score(pred,true)\n",
    "\n",
    "    print(f'Epoch {e} | Loss {loss:6.2f} | Accuracy = {100*acc:6.3f}% | # True Labels = {ypred.round().sum()}')\n",
    "\n"
   ]
  },
  {
   "cell_type": "code",
   "execution_count": null,
   "metadata": {
    "id": "-Z8akS4sO_dJ"
   },
   "outputs": [],
   "source": []
  },
  {
   "cell_type": "code",
   "execution_count": null,
   "metadata": {
    "id": "5miz-Os9xO8l"
   },
   "outputs": [],
   "source": [
    "from sklearn.metrics import roc_curve\n",
    "fpr, tpr, _ = roc_curve(pred,true)\n",
    "\n",
    "plt.figure(1)\n",
    "plt.plot([0, 1], [0, 1])\n",
    "plt.plot(fpr, tpr)\n",
    "plt.xlabel('False positive rate')\n",
    "plt.ylabel('True positive rate')\n",
    "plt.show()"
   ]
  },
  {
   "cell_type": "code",
   "execution_count": null,
   "metadata": {
    "id": "-PrniFD-ymBX"
   },
   "outputs": [],
   "source": [
    "data.cpu()"
   ]
  },
  {
   "cell_type": "code",
   "execution_count": null,
   "metadata": {
    "id": "Vy8ygBostUHq"
   },
   "outputs": [],
   "source": [
    "#GATConv does not scale by design... \n",
    "#https://github.com/pyg-team/pytorch_geometric/issues/527\n",
    "#Single dense graph so using NeighborLoader (where DataLoader is for multi-graph problems)\n",
    "from torch_geometric.loader import NeighborLoader\n",
    "\n",
    "batch_size = 128\n",
    "loader = NeighborLoader(\n",
    "    data,\n",
    "    # Sample 1000 neighbors for each node for 2 iterations\n",
    "    num_neighbors=[1000]*2,\n",
    "    # Use a batch size for sampling training nodes\n",
    "    batch_size=batch_size,\n",
    "    input_nodes=data.train_mask,\n",
    ")\n",
    "\n",
    "sampled_data = next(iter(loader))\n",
    "print(f'Checking that batch size is {batch_size}: {batch_size == sampled_data.batch_size}')\n",
    "print(f'Percentage fraud in batch: {100*sampled_data.y.sum()/len(sampled_data.y):.4f}%')\n",
    "sampled_data"
   ]
  },
  {
   "cell_type": "code",
   "execution_count": null,
   "metadata": {
    "id": "CVPzZTMh99Ck"
   },
   "outputs": [],
   "source": []
  },
  {
   "cell_type": "code",
   "execution_count": null,
   "metadata": {
    "id": "RCwF6dpbT5Dh"
   },
   "outputs": [],
   "source": [
    "#As we are using batched data, important to also have batchnorm in network\n",
    "\n",
    "from torch_geometric.nn import GATConv\n",
    "import torch.nn as nn\n",
    "\n",
    "class GAT(torch.nn.Module):\n",
    "    def __init__(self, hidden_layers=32, heads=1, dropout_p=0.0):\n",
    "        super().__init__()\n",
    "        torch.manual_seed(2022)\n",
    "        self.conv1 = GATConv(data.num_node_features, hidden_layers, heads, dropout=dropout_p)\n",
    "        self.bn1 = nn.BatchNorm1d(hidden_layers*heads)\n",
    "        self.conv2 = GATConv(hidden_layers * heads, 1, dropout=dropout_p)\n",
    "\n",
    "    def forward(self, data, dropout_p=0.0):\n",
    "        x, edge_index = data.x, data.edge_index\n",
    "\n",
    "        x = self.conv1(x, edge_index)\n",
    "        x = self.bn1(x)\n",
    "        x = F.relu(x)\n",
    "        x = F.dropout(x, training=self.training)\n",
    "        x = self.conv2(x, edge_index)\n",
    "\n",
    "        return torch.sigmoid(x)\n"
   ]
  },
  {
   "cell_type": "code",
   "execution_count": null,
   "metadata": {
    "id": "iSjHZbeq6e-5"
   },
   "outputs": [],
   "source": []
  },
  {
   "cell_type": "code",
   "execution_count": null,
   "metadata": {
    "id": "atT1mBnnV8_2"
   },
   "outputs": [],
   "source": [
    "lr = 0.01\n",
    "epochs = 20\n",
    "\n",
    "model = GAT(hidden_layers = 64,heads=2)\n",
    "model.to(device)\n",
    "\n",
    "optimizer = torch.optim.Adam(model.parameters(), lr=lr,weight_decay=5e-4)\n",
    "criterion = torch.nn.BCELoss()\n",
    "\n",
    "losses = []\n",
    "for e in range(epochs):    \n",
    "    epoch_loss = 0.\n",
    "    for i, sampled_data in enumerate(loader):\n",
    "        sampled_data.to(device)\n",
    "\n",
    "        model.train()\n",
    "        optimizer.zero_grad()\n",
    "        out = model(sampled_data)\n",
    "        loss = criterion(out[sampled_data.train_mask], sampled_data.y[sampled_data.train_mask].reshape(-1,1).float())\n",
    "        loss.backward()\n",
    "        epoch_loss += loss.item()\n",
    "\n",
    "        optimizer.step()\n",
    "\n",
    "        #accuracy\n",
    "        ypred = model(sampled_data).clone().cpu()\n",
    "        pred = sampled_data.y[sampled_data.test_mask].clone().cpu().detach().numpy()\n",
    "        true = ypred[sampled_data.test_mask].detach().numpy()\n",
    "        acc = roc_auc_score(pred,true)\n",
    "    \n",
    "    losses.append(epoch_loss/batch_size)\n",
    "\n",
    "    print(f'Epoch {e} | Loss {epoch_loss:6.2f} | Accuracy = {100*acc:6.3f}% | # True Labels = {ypred.round().sum()}')\n"
   ]
  },
  {
   "cell_type": "code",
   "execution_count": null,
   "metadata": {
    "id": "IOKNq585r6sI"
   },
   "outputs": [],
   "source": [
    "data.to(device)\n",
    "ypred = model(data).clone().cpu()\n",
    "pred = data.y[data.test_mask].clone().cpu().detach().numpy()\n",
    "true = ypred[data.test_mask].detach().numpy()\n",
    "acc = roc_auc_score(pred,true)\n",
    "print(f\"Final model accuracy for GAT is : {100*acc:.4f}%\")"
   ]
  },
  {
   "cell_type": "code",
   "execution_count": null,
   "metadata": {
    "id": "FHA64yrhd4zd"
   },
   "outputs": [],
   "source": [
    "\n",
    "fpr2, tpr2, _ = roc_curve(pred,true)\n",
    "\n",
    "plt.figure(1)\n",
    "plt.plot([0, 1], [0, 1])\n",
    "plt.plot(fpr, tpr)\n",
    "plt.plot(fpr2, tpr2)\n",
    "plt.xlabel('False positive rate')\n",
    "plt.ylabel('True positive rate')\n",
    "plt.show()"
   ]
  },
  {
   "cell_type": "code",
   "execution_count": null,
   "metadata": {
    "id": "3KXCxZnDjPpP"
   },
   "outputs": [],
   "source": [
    "# Additional parameters to change:\n",
    "#  - number of epochs\n",
    "#  - number of hidden layers\n",
    "#  - number of heads\n",
    "#  - dropout probability\n",
    "#  - learning rate (optimizer)\n",
    "#  - weight decay rate (optimizer)\n"
   ]
  },
  {
   "cell_type": "code",
   "execution_count": null,
   "metadata": {
    "id": "0LcyCFNLEZdA"
   },
   "outputs": [],
   "source": []
  },
  {
   "cell_type": "markdown",
   "metadata": {
    "id": "c5YUzWZqEaBM"
   },
   "source": [
    "### Advanced:\n",
    "\n",
    "GATv2Conv —> https://arxiv.org/pdf/2105.14491.pdf"
   ]
  },
  {
   "cell_type": "code",
   "execution_count": null,
   "metadata": {
    "id": "YBSSAV6-WMfL"
   },
   "outputs": [],
   "source": [
    "from torch_geometric.nn import GATv2Conv\n",
    "\n",
    "class GATv2(torch.nn.Module):\n",
    "    def __init__(self, hidden_layers=32, heads=1, dropout_p=0.0):\n",
    "        super().__init__()\n",
    "        torch.manual_seed(2022)\n",
    "        self.conv1 = GATv2Conv(data.num_node_features, hidden_layers, heads, dropout=dropout_p)\n",
    "        self.bn1 = nn.BatchNorm1d(hidden_layers*heads)\n",
    "        self.conv2 = GATv2Conv(hidden_layers * heads, 1, dropout=dropout_p)\n",
    "\n",
    "    def forward(self, data, dropout_p=0.0):\n",
    "        x, edge_index = data.x, data.edge_index\n",
    "\n",
    "        x = self.conv1(x, edge_index)\n",
    "        x = self.bn1(x)\n",
    "        x = F.relu(x)\n",
    "        x = F.dropout(x, training=self.training)\n",
    "        x = self.conv2(x, edge_index)\n",
    "\n",
    "        return torch.sigmoid(x)\n"
   ]
  },
  {
   "cell_type": "code",
   "execution_count": null,
   "metadata": {
    "id": "PZkOjXf-oqNi"
   },
   "outputs": [],
   "source": [
    "lr = 0.01\n",
    "epochs = 20\n",
    "\n",
    "model = GATv2(hidden_layers = 64,heads=1)\n",
    "model.to(device)\n",
    "\n",
    "optimizer = torch.optim.Adam(model.parameters(), lr=lr,weight_decay=5e-4)\n",
    "\n",
    "\n",
    "criterion = torch.nn.BCELoss()\n",
    "\n",
    "losses = []\n",
    "for e in range(epochs):    \n",
    "    epoch_loss = 0.\n",
    "    for i, sampled_data in enumerate(loader):\n",
    "        sampled_data.to(device)\n",
    "\n",
    "        model.train()\n",
    "        optimizer.zero_grad()\n",
    "        out = model(sampled_data)\n",
    "        loss = criterion(out[sampled_data.train_mask], sampled_data.y[sampled_data.train_mask].reshape(-1,1).float())\n",
    "        loss.backward()\n",
    "        epoch_loss += loss.item()\n",
    "\n",
    "        optimizer.step()\n",
    "\n",
    "        #accuracy\n",
    "        ypred = model(sampled_data).clone().cpu()\n",
    "        pred = sampled_data.y[sampled_data.test_mask].clone().cpu().detach().numpy()\n",
    "        true = ypred[sampled_data.test_mask].detach().numpy()\n",
    "        acc = roc_auc_score(pred,true)\n",
    "    \n",
    "    losses.append(epoch_loss/batch_size)\n",
    "\n",
    "    print(f'Epoch {e} | Loss {loss:6.2f} | Accuracy = {100*acc:6.3f}% | # True Labels = {ypred.round().sum()}')\n"
   ]
  },
  {
   "cell_type": "code",
   "execution_count": null,
   "metadata": {
    "id": "VLVQfTaEDMrN"
   },
   "outputs": [],
   "source": [
    "data.to(device)\n",
    "ypred = model(data).cpu()\n",
    "pred = data.y[data.test_mask].clone().cpu().detach().numpy()\n",
    "true = ypred[data.test_mask].detach().numpy()\n",
    "acc = roc_auc_score(pred,true)\n",
    "print(f\"Final model accuracy for GATv2 is : {100*acc:.4f}%\")"
   ]
  },
  {
   "cell_type": "code",
   "execution_count": null,
   "metadata": {
    "id": "7K9CiwDhYP77"
   },
   "outputs": [],
   "source": []
  }
 ],
 "metadata": {
  "accelerator": "GPU",
  "colab": {
   "provenance": []
  },
  "kernelspec": {
   "display_name": "Python 3",
   "language": "python",
   "name": "python3"
  },
  "language_info": {
   "codemirror_mode": {
    "name": "ipython",
    "version": 3
   },
   "file_extension": ".py",
   "mimetype": "text/x-python",
   "name": "python",
   "nbconvert_exporter": "python",
   "pygments_lexer": "ipython3",
   "version": "3.9.13"
  }
 },
 "nbformat": 4,
 "nbformat_minor": 1
}
