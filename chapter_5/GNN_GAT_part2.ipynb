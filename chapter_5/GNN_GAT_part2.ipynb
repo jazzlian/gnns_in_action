{
  "cells": [
    {
      "cell_type": "markdown",
      "metadata": {
        "id": "WSLsxsxfw1vD"
      },
      "source": [
        "## Part 2: Introduction of GAT Network\n",
        "\n"
      ]
    },
    {
      "cell_type": "code",
      "execution_count": 1,
      "metadata": {
        "colab": {
          "base_uri": "https://localhost:8080/"
        },
        "id": "8tYaCXwdJ591",
        "outputId": "08bb8302-64b2-4d3c-cb49-14bac0b6ce87"
      },
      "outputs": [
        {
          "output_type": "stream",
          "name": "stdout",
          "text": [
            "11.8\n"
          ]
        }
      ],
      "source": [
        "# Find the CUDA version PyTorch was installed with\n",
        "!python -c \"import torch; print(torch.version.cuda)\""
      ]
    },
    {
      "cell_type": "code",
      "execution_count": 2,
      "metadata": {
        "colab": {
          "base_uri": "https://localhost:8080/"
        },
        "id": "CG8KEdh0J5yl",
        "outputId": "32eed1ff-839c-462a-9e35-0bb036bad250"
      },
      "outputs": [
        {
          "output_type": "stream",
          "name": "stdout",
          "text": [
            "2.0.1+cu118\n"
          ]
        }
      ],
      "source": [
        "# PyTorch version\n",
        "!python -c \"import torch; print(torch.__version__)\""
      ]
    },
    {
      "cell_type": "code",
      "source": [
        "!pip install torch_geometric\n",
        "\n",
        "# Optional dependencies:\n",
        "!pip install pyg_lib torch_scatter torch_sparse torch_cluster torch_spline_conv -f https://data.pyg.org/whl/torch-2.0.1+cu118.html"
      ],
      "metadata": {
        "colab": {
          "base_uri": "https://localhost:8080/"
        },
        "id": "GoS51EdigxCz",
        "outputId": "e64233e1-b774-4cef-85a5-2455d9756d8d"
      },
      "execution_count": 3,
      "outputs": [
        {
          "output_type": "stream",
          "name": "stdout",
          "text": [
            "Collecting torch_geometric\n",
            "  Downloading torch_geometric-2.3.1.tar.gz (661 kB)\n",
            "\u001b[2K     \u001b[90m━━━━━━━━━━━━━━━━━━━━━━━━━━━━━━━━━━━━━━\u001b[0m \u001b[32m661.6/661.6 kB\u001b[0m \u001b[31m11.0 MB/s\u001b[0m eta \u001b[36m0:00:00\u001b[0m\n",
            "\u001b[?25h  Installing build dependencies ... \u001b[?25l\u001b[?25hdone\n",
            "  Getting requirements to build wheel ... \u001b[?25l\u001b[?25hdone\n",
            "  Preparing metadata (pyproject.toml) ... \u001b[?25l\u001b[?25hdone\n",
            "Requirement already satisfied: tqdm in /usr/local/lib/python3.10/dist-packages (from torch_geometric) (4.66.1)\n",
            "Requirement already satisfied: numpy in /usr/local/lib/python3.10/dist-packages (from torch_geometric) (1.23.5)\n",
            "Requirement already satisfied: scipy in /usr/local/lib/python3.10/dist-packages (from torch_geometric) (1.10.1)\n",
            "Requirement already satisfied: jinja2 in /usr/local/lib/python3.10/dist-packages (from torch_geometric) (3.1.2)\n",
            "Requirement already satisfied: requests in /usr/local/lib/python3.10/dist-packages (from torch_geometric) (2.31.0)\n",
            "Requirement already satisfied: pyparsing in /usr/local/lib/python3.10/dist-packages (from torch_geometric) (3.1.1)\n",
            "Requirement already satisfied: scikit-learn in /usr/local/lib/python3.10/dist-packages (from torch_geometric) (1.2.2)\n",
            "Requirement already satisfied: psutil>=5.8.0 in /usr/local/lib/python3.10/dist-packages (from torch_geometric) (5.9.5)\n",
            "Requirement already satisfied: MarkupSafe>=2.0 in /usr/local/lib/python3.10/dist-packages (from jinja2->torch_geometric) (2.1.3)\n",
            "Requirement already satisfied: charset-normalizer<4,>=2 in /usr/local/lib/python3.10/dist-packages (from requests->torch_geometric) (3.2.0)\n",
            "Requirement already satisfied: idna<4,>=2.5 in /usr/local/lib/python3.10/dist-packages (from requests->torch_geometric) (3.4)\n",
            "Requirement already satisfied: urllib3<3,>=1.21.1 in /usr/local/lib/python3.10/dist-packages (from requests->torch_geometric) (2.0.4)\n",
            "Requirement already satisfied: certifi>=2017.4.17 in /usr/local/lib/python3.10/dist-packages (from requests->torch_geometric) (2023.7.22)\n",
            "Requirement already satisfied: joblib>=1.1.1 in /usr/local/lib/python3.10/dist-packages (from scikit-learn->torch_geometric) (1.3.2)\n",
            "Requirement already satisfied: threadpoolctl>=2.0.0 in /usr/local/lib/python3.10/dist-packages (from scikit-learn->torch_geometric) (3.2.0)\n",
            "Building wheels for collected packages: torch_geometric\n",
            "  Building wheel for torch_geometric (pyproject.toml) ... \u001b[?25l\u001b[?25hdone\n",
            "  Created wheel for torch_geometric: filename=torch_geometric-2.3.1-py3-none-any.whl size=910454 sha256=d7df3d44056716101101d63ce0b33d0631c29a8876695ee8bf2aba99a58028b9\n",
            "  Stored in directory: /root/.cache/pip/wheels/ac/dc/30/e2874821ff308ee67dcd7a66dbde912411e19e35a1addda028\n",
            "Successfully built torch_geometric\n",
            "Installing collected packages: torch_geometric\n",
            "Successfully installed torch_geometric-2.3.1\n",
            "Looking in links: https://data.pyg.org/whl/torch-2.0.1+cu118.html\n",
            "Collecting pyg_lib\n",
            "  Downloading https://data.pyg.org/whl/torch-2.0.0%2Bcu118/pyg_lib-0.2.0%2Bpt20cu118-cp310-cp310-linux_x86_64.whl (1.8 MB)\n",
            "\u001b[2K     \u001b[90m━━━━━━━━━━━━━━━━━━━━━━━━━━━━━━━━━━━━━━━━\u001b[0m \u001b[32m1.8/1.8 MB\u001b[0m \u001b[31m67.9 MB/s\u001b[0m eta \u001b[36m0:00:00\u001b[0m\n",
            "\u001b[?25hCollecting torch_scatter\n",
            "  Downloading https://data.pyg.org/whl/torch-2.0.0%2Bcu118/torch_scatter-2.1.1%2Bpt20cu118-cp310-cp310-linux_x86_64.whl (10.2 MB)\n",
            "\u001b[2K     \u001b[90m━━━━━━━━━━━━━━━━━━━━━━━━━━━━━━━━━━━━━━━\u001b[0m \u001b[32m10.2/10.2 MB\u001b[0m \u001b[31m116.7 MB/s\u001b[0m eta \u001b[36m0:00:00\u001b[0m\n",
            "\u001b[?25hCollecting torch_sparse\n",
            "  Downloading https://data.pyg.org/whl/torch-2.0.0%2Bcu118/torch_sparse-0.6.17%2Bpt20cu118-cp310-cp310-linux_x86_64.whl (4.8 MB)\n",
            "\u001b[2K     \u001b[90m━━━━━━━━━━━━━━━━━━━━━━━━━━━━━━━━━━━━━━━━\u001b[0m \u001b[32m4.8/4.8 MB\u001b[0m \u001b[31m113.9 MB/s\u001b[0m eta \u001b[36m0:00:00\u001b[0m\n",
            "\u001b[?25hCollecting torch_cluster\n",
            "  Downloading https://data.pyg.org/whl/torch-2.0.0%2Bcu118/torch_cluster-1.6.1%2Bpt20cu118-cp310-cp310-linux_x86_64.whl (3.3 MB)\n",
            "\u001b[2K     \u001b[90m━━━━━━━━━━━━━━━━━━━━━━━━━━━━━━━━━━━━━━━━\u001b[0m \u001b[32m3.3/3.3 MB\u001b[0m \u001b[31m114.4 MB/s\u001b[0m eta \u001b[36m0:00:00\u001b[0m\n",
            "\u001b[?25hCollecting torch_spline_conv\n",
            "  Downloading https://data.pyg.org/whl/torch-2.0.0%2Bcu118/torch_spline_conv-1.2.2%2Bpt20cu118-cp310-cp310-linux_x86_64.whl (884 kB)\n",
            "\u001b[2K     \u001b[90m━━━━━━━━━━━━━━━━━━━━━━━━━━━━━━━━━━━━━━\u001b[0m \u001b[32m884.9/884.9 kB\u001b[0m \u001b[31m71.0 MB/s\u001b[0m eta \u001b[36m0:00:00\u001b[0m\n",
            "\u001b[?25hRequirement already satisfied: scipy in /usr/local/lib/python3.10/dist-packages (from torch_sparse) (1.10.1)\n",
            "Requirement already satisfied: numpy<1.27.0,>=1.19.5 in /usr/local/lib/python3.10/dist-packages (from scipy->torch_sparse) (1.23.5)\n",
            "Installing collected packages: torch_spline_conv, torch_scatter, pyg_lib, torch_sparse, torch_cluster\n",
            "Successfully installed pyg_lib-0.2.0+pt20cu118 torch_cluster-1.6.1+pt20cu118 torch_scatter-2.1.1+pt20cu118 torch_sparse-0.6.17+pt20cu118 torch_spline_conv-1.2.2+pt20cu118\n"
          ]
        }
      ]
    },
    {
      "cell_type": "code",
      "execution_count": 4,
      "metadata": {
        "id": "jJ57xuAqJ5or"
      },
      "outputs": [],
      "source": [
        "# # Use the above information to fill in the http address below\n",
        "# %%capture\n",
        "# !pip install ogb pyg-lib torch-scatter torch-sparse -f https://data.pyg.org/whl/torch-2.0.1+cu118.html\n",
        "# !pip install torch-geometric"
      ]
    },
    {
      "cell_type": "code",
      "execution_count": 5,
      "metadata": {
        "id": "hdXKBsPvNZYM"
      },
      "outputs": [],
      "source": [
        "import torch\n",
        "import pickle\n",
        "import random as rd\n",
        "import numpy as np\n",
        "import scipy.sparse as sp\n",
        "from scipy.io import loadmat\n",
        "import copy as cp\n",
        "from sklearn.metrics import f1_score, accuracy_score, recall_score, roc_auc_score, average_precision_score\n",
        "from collections import defaultdict\n",
        "import matplotlib.pyplot as plt\n",
        "\n",
        "\n",
        "def sparse_to_adjlist(sp_matrix, filename):\n",
        "\t\"\"\"\n",
        "\tTransfer sparse matrix to adjacency list\n",
        "\t:param sp_matrix: the sparse matrix\n",
        "\t:param filename: the filename of adjlist\n",
        "\t\"\"\"\n",
        "\t# add self loop\n",
        "\thomo_adj = sp_matrix + sp.eye(sp_matrix.shape[0])\n",
        "\t# create adj_list\n",
        "\tadj_lists = defaultdict(set)\n",
        "\tedges = homo_adj.nonzero()\n",
        "\tfor index, node in enumerate(edges[0]):\n",
        "\t\tadj_lists[node].add(edges[1][index])\n",
        "\t\tadj_lists[edges[1][index]].add(node)\n",
        "\twith open(filename, 'wb') as file:\n",
        "\t\tpickle.dump(adj_lists, file)\n",
        "\tfile.close()"
      ]
    },
    {
      "cell_type": "code",
      "source": [
        "!unzip '/content/YelpChi.zip'\n"
      ],
      "metadata": {
        "colab": {
          "base_uri": "https://localhost:8080/"
        },
        "id": "gPnwSErkcBVK",
        "outputId": "bee6fad4-337f-409b-d48d-358a21e58914"
      },
      "execution_count": 9,
      "outputs": [
        {
          "output_type": "stream",
          "name": "stdout",
          "text": [
            "Archive:  /content/YelpChi.zip\n",
            "  inflating: yelp_homo_adjlists.pickle  \n",
            "  inflating: yelp_rsr_adjlists.pickle  \n",
            "  inflating: yelp_rtr_adjlists.pickle  \n",
            "  inflating: yelp_rur_adjlists.pickle  \n",
            "  inflating: YelpChi.mat             \n",
            "  inflating: __MACOSX/._YelpChi.mat  \n"
          ]
        }
      ]
    },
    {
      "cell_type": "code",
      "execution_count": 10,
      "metadata": {
        "id": "_expPDaILEjP"
      },
      "outputs": [],
      "source": [
        "# (COLAB) Upload the YelpChi.mat file into the session directory, then copy\n",
        "#         the path into the 'prefix' variable\n",
        "\n",
        "prefix = '/content/'\n",
        "\n",
        "data_file = loadmat(prefix +  'YelpChi.mat')\n",
        "\n",
        "labels = data_file['label'].flatten()\n",
        "features = data_file['features'].todense().A\n",
        "\n",
        "yelp_homo = data_file['homo'] #C\n",
        "sparse_to_adjlist(yelp_homo, prefix + 'yelp_homo_adjlists.pickle') #C\n",
        "\n",
        "\n",
        "\n",
        "# load the preprocessed adj_lists\n",
        "with open(prefix + 'yelp_homo_adjlists.pickle', 'rb') as file:\n",
        "    homogenous = pickle.load(file)\n",
        "file.close()\n"
      ]
    },
    {
      "cell_type": "code",
      "execution_count": 11,
      "metadata": {
        "id": "V-NoRecHG2x9"
      },
      "outputs": [],
      "source": [
        "# Prelim network EDA\n",
        "import networkx as nx\n"
      ]
    },
    {
      "cell_type": "code",
      "execution_count": 12,
      "metadata": {
        "colab": {
          "base_uri": "https://localhost:8080/"
        },
        "id": "uIuJgxipEBiL",
        "outputId": "0c1ff645-36b5-497d-8a8d-0d31a5116c2e"
      },
      "outputs": [
        {
          "output_type": "stream",
          "name": "stdout",
          "text": [
            "features dtype = float64, \n",
            "label dtype = int64\n"
          ]
        }
      ],
      "source": [
        "#Data needs to be translated into torch tensors when using pytorch geometric\n",
        "print(f'features dtype = {features.dtype}, \\n' +\n",
        "      f'label dtype = {labels.dtype}')\n"
      ]
    },
    {
      "cell_type": "code",
      "execution_count": 13,
      "metadata": {
        "id": "KpGGTGPJTry4"
      },
      "outputs": [],
      "source": [
        "# Same split of data into test and train\n",
        "from sklearn.model_selection import train_test_split\n",
        "split = 0.2\n",
        "indices = np.arange(len(features))\n",
        "\n",
        "xtrain, xtest, ytrain, ytest, idxtrain, idxtest = train_test_split(features,\n",
        "                                                                   labels,indices,\n",
        "                                                                   stratify=labels,\n",
        "                                                                   test_size = split,\n",
        "                                                                   random_state = 99)\n",
        "\n"
      ]
    },
    {
      "cell_type": "code",
      "execution_count": 14,
      "metadata": {
        "colab": {
          "base_uri": "https://localhost:8080/"
        },
        "id": "b6oinFRTTu-T",
        "outputId": "8b8f7dd5-e0d0-43d9-eeda-ce0f53c4a38d"
      },
      "outputs": [
        {
          "output_type": "stream",
          "name": "stdout",
          "text": [
            "Number of nodes: 45954\n",
            "Number of edges: 3892933\n",
            "Average node degree: 84.71\n"
          ]
        }
      ],
      "source": [
        "g = nx.Graph(homogenous)\n",
        "print(f'Number of nodes: {g.number_of_nodes()}')\n",
        "print(f'Number of edges: {g.number_of_edges()}')\n",
        "print(f'Average node degree: {len(g.edges) / len(g.nodes):.2f}')\n"
      ]
    },
    {
      "cell_type": "code",
      "execution_count": 23,
      "metadata": {
        "id": "pjcaJGB4Twxn"
      },
      "outputs": [],
      "source": [
        "# Convert to torch geometric datatype\n",
        "from torch_geometric.utils.convert import from_networkx\n",
        "\n",
        "data = from_networkx(g)\n",
        "data.x = torch.tensor(features).float()\n",
        "data.y = torch.tensor(labels)\n",
        "data.num_node_features = data.x.shape[-1]\n",
        "data.num_classes = 1 #binary classification\n",
        "\n",
        "A = set(range(len(labels)))\n",
        "data.train_mask = torch.tensor([x in idxtrain for x in A])\n",
        "data.test_mask = torch.tensor([x in idxtest for x in A])"
      ]
    },
    {
      "cell_type": "code",
      "execution_count": 24,
      "metadata": {
        "colab": {
          "base_uri": "https://localhost:8080/"
        },
        "id": "_9l-vlLeX0BL",
        "outputId": "3b0a6885-5de9-486d-d964-80ba751aca44"
      },
      "outputs": [
        {
          "output_type": "execute_result",
          "data": {
            "text/plain": [
              "Data(edge_index=[2, 7739912], num_nodes=45954, x=[45954, 32], y=[45954], num_node_features=32, num_classes=1, train_mask=[45954], test_mask=[45954])"
            ]
          },
          "metadata": {},
          "execution_count": 24
        }
      ],
      "source": [
        "import torch_geometric.transforms as T\n",
        "from torch_geometric.transforms import NormalizeFeatures\n",
        "\n",
        "transform = NormalizeFeatures()\n",
        "transform(data)\n",
        "\n",
        "data"
      ]
    },
    {
      "cell_type": "code",
      "execution_count": 25,
      "metadata": {
        "id": "64duk7yVVX-h"
      },
      "outputs": [],
      "source": [
        "from torch_geometric.nn import GCNConv, Linear\n",
        "import torch.nn.functional as F\n"
      ]
    },
    {
      "cell_type": "code",
      "execution_count": 26,
      "metadata": {
        "id": "foOx2ru1VTBe"
      },
      "outputs": [],
      "source": [
        "class GCN(torch.nn.Module):\n",
        "    def __init__(self, hidden_layers = 64):\n",
        "        super().__init__()\n",
        "        torch.manual_seed(2022)\n",
        "        self.conv1 = GCNConv(data.num_node_features, hidden_layers)\n",
        "        self.conv2 = GCNConv(hidden_layers, 1)\n",
        "\n",
        "    def forward(self, data):\n",
        "        x, edge_index = data.x, data.edge_index\n",
        "\n",
        "        x = self.conv1(x, edge_index)\n",
        "        x = F.relu(x)\n",
        "        x = F.dropout(x, training=self.training)\n",
        "        x = self.conv2(x, edge_index)\n",
        "\n",
        "        return torch.sigmoid(x)\n"
      ]
    },
    {
      "cell_type": "code",
      "execution_count": 28,
      "metadata": {
        "colab": {
          "base_uri": "https://localhost:8080/"
        },
        "id": "TvDRUlpGT1Xq",
        "outputId": "a4350e88-f576-463f-a2aa-46ee80366dd8"
      },
      "outputs": [
        {
          "output_type": "stream",
          "name": "stdout",
          "text": [
            "cuda\n",
            "Epoch 0 | Loss   0.71 | Accuracy = 63.214% | # True Labels = 0.0\n",
            "Epoch 1 | Loss   0.68 | Accuracy = 73.427% | # True Labels = 0.0\n",
            "Epoch 2 | Loss   0.64 | Accuracy = 70.367% | # True Labels = 0.0\n",
            "Epoch 3 | Loss   0.62 | Accuracy = 70.794% | # True Labels = 0.0\n",
            "Epoch 4 | Loss   0.59 | Accuracy = 71.248% | # True Labels = 0.0\n",
            "Epoch 5 | Loss   0.56 | Accuracy = 70.741% | # True Labels = 0.0\n",
            "Epoch 6 | Loss   0.53 | Accuracy = 72.137% | # True Labels = 0.0\n",
            "Epoch 7 | Loss   0.50 | Accuracy = 72.591% | # True Labels = 0.0\n",
            "Epoch 8 | Loss   0.48 | Accuracy = 72.275% | # True Labels = 0.0\n",
            "Epoch 9 | Loss   0.45 | Accuracy = 71.049% | # True Labels = 0.0\n",
            "Epoch 10 | Loss   0.43 | Accuracy = 74.150% | # True Labels = 0.0\n",
            "Epoch 11 | Loss   0.42 | Accuracy = 70.282% | # True Labels = 0.0\n",
            "Epoch 12 | Loss   0.41 | Accuracy = 71.325% | # True Labels = 0.0\n",
            "Epoch 13 | Loss   0.40 | Accuracy = 71.103% | # True Labels = 0.0\n",
            "Epoch 14 | Loss   0.40 | Accuracy = 73.425% | # True Labels = 0.0\n",
            "Epoch 15 | Loss   0.40 | Accuracy = 72.241% | # True Labels = 0.0\n",
            "Epoch 16 | Loss   0.40 | Accuracy = 72.137% | # True Labels = 0.0\n",
            "Epoch 17 | Loss   0.40 | Accuracy = 69.965% | # True Labels = 0.0\n",
            "Epoch 18 | Loss   0.41 | Accuracy = 71.120% | # True Labels = 0.0\n",
            "Epoch 19 | Loss   0.41 | Accuracy = 71.270% | # True Labels = 0.0\n",
            "Epoch 20 | Loss   0.41 | Accuracy = 73.384% | # True Labels = 0.0\n",
            "Epoch 21 | Loss   0.41 | Accuracy = 69.766% | # True Labels = 0.0\n",
            "Epoch 22 | Loss   0.41 | Accuracy = 71.866% | # True Labels = 0.0\n",
            "Epoch 23 | Loss   0.41 | Accuracy = 70.356% | # True Labels = 0.0\n",
            "Epoch 24 | Loss   0.41 | Accuracy = 71.356% | # True Labels = 0.0\n",
            "Epoch 25 | Loss   0.41 | Accuracy = 72.004% | # True Labels = 0.0\n",
            "Epoch 26 | Loss   0.41 | Accuracy = 70.577% | # True Labels = 0.0\n",
            "Epoch 27 | Loss   0.40 | Accuracy = 68.967% | # True Labels = 0.0\n",
            "Epoch 28 | Loss   0.40 | Accuracy = 72.910% | # True Labels = 0.0\n",
            "Epoch 29 | Loss   0.40 | Accuracy = 71.575% | # True Labels = 0.0\n",
            "Epoch 30 | Loss   0.40 | Accuracy = 70.604% | # True Labels = 0.0\n",
            "Epoch 31 | Loss   0.40 | Accuracy = 71.459% | # True Labels = 0.0\n",
            "Epoch 32 | Loss   0.40 | Accuracy = 69.339% | # True Labels = 0.0\n",
            "Epoch 33 | Loss   0.40 | Accuracy = 71.394% | # True Labels = 0.0\n",
            "Epoch 34 | Loss   0.40 | Accuracy = 71.909% | # True Labels = 0.0\n",
            "Epoch 35 | Loss   0.40 | Accuracy = 72.441% | # True Labels = 0.0\n",
            "Epoch 36 | Loss   0.40 | Accuracy = 72.374% | # True Labels = 0.0\n",
            "Epoch 37 | Loss   0.40 | Accuracy = 70.262% | # True Labels = 0.0\n",
            "Epoch 38 | Loss   0.40 | Accuracy = 72.244% | # True Labels = 0.0\n",
            "Epoch 39 | Loss   0.40 | Accuracy = 71.705% | # True Labels = 0.0\n",
            "Epoch 40 | Loss   0.40 | Accuracy = 71.793% | # True Labels = 0.0\n",
            "Epoch 41 | Loss   0.40 | Accuracy = 71.132% | # True Labels = 0.0\n",
            "Epoch 42 | Loss   0.40 | Accuracy = 71.484% | # True Labels = 0.0\n",
            "Epoch 43 | Loss   0.40 | Accuracy = 71.412% | # True Labels = 0.0\n",
            "Epoch 44 | Loss   0.40 | Accuracy = 70.049% | # True Labels = 0.0\n",
            "Epoch 45 | Loss   0.40 | Accuracy = 71.823% | # True Labels = 0.0\n",
            "Epoch 46 | Loss   0.40 | Accuracy = 72.297% | # True Labels = 0.0\n",
            "Epoch 47 | Loss   0.40 | Accuracy = 73.000% | # True Labels = 0.0\n",
            "Epoch 48 | Loss   0.40 | Accuracy = 73.109% | # True Labels = 0.0\n",
            "Epoch 49 | Loss   0.40 | Accuracy = 72.936% | # True Labels = 0.0\n",
            "Epoch 50 | Loss   0.40 | Accuracy = 73.126% | # True Labels = 0.0\n",
            "Epoch 51 | Loss   0.40 | Accuracy = 71.477% | # True Labels = 0.0\n",
            "Epoch 52 | Loss   0.40 | Accuracy = 71.285% | # True Labels = 0.0\n",
            "Epoch 53 | Loss   0.40 | Accuracy = 71.950% | # True Labels = 0.0\n",
            "Epoch 54 | Loss   0.40 | Accuracy = 73.670% | # True Labels = 0.0\n",
            "Epoch 55 | Loss   0.40 | Accuracy = 72.223% | # True Labels = 0.0\n",
            "Epoch 56 | Loss   0.40 | Accuracy = 73.405% | # True Labels = 0.0\n",
            "Epoch 57 | Loss   0.40 | Accuracy = 74.010% | # True Labels = 0.0\n",
            "Epoch 58 | Loss   0.40 | Accuracy = 75.109% | # True Labels = 0.0\n",
            "Epoch 59 | Loss   0.40 | Accuracy = 73.748% | # True Labels = 0.0\n",
            "Epoch 60 | Loss   0.40 | Accuracy = 71.446% | # True Labels = 0.0\n",
            "Epoch 61 | Loss   0.40 | Accuracy = 74.203% | # True Labels = 0.0\n",
            "Epoch 62 | Loss   0.40 | Accuracy = 73.703% | # True Labels = 0.0\n",
            "Epoch 63 | Loss   0.40 | Accuracy = 74.078% | # True Labels = 0.0\n",
            "Epoch 64 | Loss   0.40 | Accuracy = 73.874% | # True Labels = 0.0\n",
            "Epoch 65 | Loss   0.40 | Accuracy = 73.264% | # True Labels = 0.0\n",
            "Epoch 66 | Loss   0.40 | Accuracy = 73.358% | # True Labels = 0.0\n",
            "Epoch 67 | Loss   0.40 | Accuracy = 73.684% | # True Labels = 0.0\n",
            "Epoch 68 | Loss   0.40 | Accuracy = 74.636% | # True Labels = 0.0\n",
            "Epoch 69 | Loss   0.40 | Accuracy = 74.234% | # True Labels = 0.0\n",
            "Epoch 70 | Loss   0.40 | Accuracy = 71.953% | # True Labels = 0.0\n",
            "Epoch 71 | Loss   0.40 | Accuracy = 73.941% | # True Labels = 0.0\n",
            "Epoch 72 | Loss   0.40 | Accuracy = 73.371% | # True Labels = 0.0\n",
            "Epoch 73 | Loss   0.40 | Accuracy = 75.334% | # True Labels = 0.0\n",
            "Epoch 74 | Loss   0.40 | Accuracy = 74.152% | # True Labels = 0.0\n",
            "Epoch 75 | Loss   0.40 | Accuracy = 72.988% | # True Labels = 0.0\n",
            "Epoch 76 | Loss   0.39 | Accuracy = 74.147% | # True Labels = 0.0\n",
            "Epoch 77 | Loss   0.40 | Accuracy = 74.318% | # True Labels = 0.0\n",
            "Epoch 78 | Loss   0.40 | Accuracy = 72.658% | # True Labels = 0.0\n",
            "Epoch 79 | Loss   0.40 | Accuracy = 73.998% | # True Labels = 0.0\n",
            "Epoch 80 | Loss   0.40 | Accuracy = 73.177% | # True Labels = 0.0\n",
            "Epoch 81 | Loss   0.40 | Accuracy = 74.608% | # True Labels = 0.0\n",
            "Epoch 82 | Loss   0.40 | Accuracy = 73.490% | # True Labels = 0.0\n",
            "Epoch 83 | Loss   0.40 | Accuracy = 72.479% | # True Labels = 0.0\n",
            "Epoch 84 | Loss   0.40 | Accuracy = 74.690% | # True Labels = 0.0\n",
            "Epoch 85 | Loss   0.40 | Accuracy = 76.730% | # True Labels = 0.0\n",
            "Epoch 86 | Loss   0.40 | Accuracy = 73.345% | # True Labels = 0.0\n",
            "Epoch 87 | Loss   0.40 | Accuracy = 72.909% | # True Labels = 0.0\n",
            "Epoch 88 | Loss   0.40 | Accuracy = 74.822% | # True Labels = 0.0\n",
            "Epoch 89 | Loss   0.40 | Accuracy = 75.514% | # True Labels = 0.0\n",
            "Epoch 90 | Loss   0.39 | Accuracy = 73.424% | # True Labels = 0.0\n",
            "Epoch 91 | Loss   0.40 | Accuracy = 73.571% | # True Labels = 0.0\n",
            "Epoch 92 | Loss   0.40 | Accuracy = 74.688% | # True Labels = 0.0\n",
            "Epoch 93 | Loss   0.39 | Accuracy = 76.448% | # True Labels = 0.0\n",
            "Epoch 94 | Loss   0.39 | Accuracy = 75.804% | # True Labels = 0.0\n",
            "Epoch 95 | Loss   0.39 | Accuracy = 74.883% | # True Labels = 0.0\n",
            "Epoch 96 | Loss   0.39 | Accuracy = 74.373% | # True Labels = 0.0\n",
            "Epoch 97 | Loss   0.39 | Accuracy = 77.949% | # True Labels = 0.0\n",
            "Epoch 98 | Loss   0.40 | Accuracy = 76.387% | # True Labels = 0.0\n",
            "Epoch 99 | Loss   0.39 | Accuracy = 73.583% | # True Labels = 0.0\n"
          ]
        }
      ],
      "source": [
        "from sklearn.metrics import roc_auc_score\n",
        "\n",
        "device = torch.device(\"cuda\" if torch.cuda.is_available() else \"cpu\")\n",
        "print(device)\n",
        "model = GCN()\n",
        "model.to(device)\n",
        "data_gpu = data.to(device)\n",
        "\n",
        "lr = 0.01\n",
        "epochs = 100\n",
        "\n",
        "optimizer = torch.optim.Adam(model.parameters(), lr=lr, weight_decay=5e-4)\n",
        "criterion = torch.nn.BCELoss()\n",
        "\n",
        "losses = []\n",
        "for e in range(epochs):\n",
        "    model.train()\n",
        "    optimizer.zero_grad()\n",
        "    out = model(data_gpu)\n",
        "    #for discussion on why masks is applied here, see: https://stackoverflow.com/questions/69019682/training-mask-not-used-in-pytorch-geometric-when-inputting-data-to-train-model\n",
        "    #loss\n",
        "    loss = criterion(out[data_gpu.train_mask], data.y[data_gpu.train_mask].reshape(-1,1).float())\n",
        "    loss.backward()\n",
        "    losses.append(loss.item())\n",
        "\n",
        "    optimizer.step()\n",
        "\n",
        "    #accuracy\n",
        "    ypred = model(data_gpu)\n",
        "    pred = data.y[data_gpu.test_mask].clone().cpu().detach().numpy()\n",
        "    true = ypred[data_gpu.test_mask].clone().cpu().detach().numpy()\n",
        "    acc = roc_auc_score(pred,true)\n",
        "\n",
        "    print(f'Epoch {e} | Loss {loss:6.2f} | Accuracy = {100*acc:6.3f}% | # True Labels = {ypred.round().sum()}')\n"
      ]
    },
    {
      "cell_type": "code",
      "execution_count": 29,
      "metadata": {
        "colab": {
          "base_uri": "https://localhost:8080/",
          "height": 449
        },
        "id": "5miz-Os9xO8l",
        "outputId": "dd0f998b-6de9-47be-de27-b8f2466d3dfc"
      },
      "outputs": [
        {
          "output_type": "display_data",
          "data": {
            "text/plain": [
              "<Figure size 640x480 with 1 Axes>"
            ],
            "image/png": "[encoded data removed]"
          },
          "metadata": {}
        }
      ],
      "source": [
        "from sklearn.metrics import roc_curve\n",
        "fpr, tpr, _ = roc_curve(pred,true)\n",
        "\n",
        "plt.figure(1)\n",
        "plt.plot([0, 1], [0, 1])\n",
        "plt.plot(fpr, tpr)\n",
        "plt.xlabel('False positive rate')\n",
        "plt.ylabel('True positive rate')\n",
        "plt.show()"
      ]
    },
    {
      "cell_type": "code",
      "execution_count": 31,
      "metadata": {
        "colab": {
          "base_uri": "https://localhost:8080/"
        },
        "id": "-PrniFD-ymBX",
        "outputId": "c0b377f9-b50b-4f19-c1c4-d45eac06060f"
      },
      "outputs": [
        {
          "output_type": "execute_result",
          "data": {
            "text/plain": [
              "Data(edge_index=[2, 7739912], num_nodes=45954, x=[45954, 32], y=[45954], num_node_features=32, num_classes=1, train_mask=[45954], test_mask=[45954])"
            ]
          },
          "metadata": {},
          "execution_count": 31
        }
      ],
      "source": [
        "data.cpu()"
      ]
    },
    {
      "cell_type": "code",
      "execution_count": 32,
      "metadata": {
        "colab": {
          "base_uri": "https://localhost:8080/"
        },
        "id": "Vy8ygBostUHq",
        "outputId": "2d95c709-1801-4175-a27c-e2899cba2ac1"
      },
      "outputs": [
        {
          "output_type": "stream",
          "name": "stdout",
          "text": [
            "Checking that batch size is 128: True\n",
            "Percentage fraud in batch: 10.0280%\n"
          ]
        },
        {
          "output_type": "execute_result",
          "data": {
            "text/plain": [
              "Data(edge_index=[2, 29163], num_nodes=7489, x=[7489, 32], y=[7489], num_node_features=32, num_classes=1, train_mask=[7489], test_mask=[7489], n_id=[7489], e_id=[29163], num_sampled_nodes=[3], num_sampled_edges=[2], input_id=[128], batch_size=128)"
            ]
          },
          "metadata": {},
          "execution_count": 32
        }
      ],
      "source": [
        "#GATConv does not scale by design...\n",
        "#https://github.com/pyg-team/pytorch_geometric/issues/527\n",
        "#Single dense graph so using NeighborLoader (where DataLoader is for multi-graph problems)\n",
        "from torch_geometric.loader import NeighborLoader\n",
        "\n",
        "batch_size = 128\n",
        "loader = NeighborLoader(\n",
        "    data.cpu(),\n",
        "    # Sample 1000 neighbors for each node for 2 iterations\n",
        "    num_neighbors=[1000]*2,\n",
        "    # Use a batch size for sampling training nodes\n",
        "    batch_size=batch_size,\n",
        "    input_nodes=data.train_mask,\n",
        ")\n",
        "\n",
        "sampled_data = next(iter(loader))\n",
        "print(f'Checking that batch size is {batch_size}: {batch_size == sampled_data.batch_size}')\n",
        "print(f'Percentage fraud in batch: {100*sampled_data.y.sum()/len(sampled_data.y):.4f}%')\n",
        "sampled_data"
      ]
    },
    {
      "cell_type": "code",
      "execution_count": 33,
      "metadata": {
        "id": "RCwF6dpbT5Dh"
      },
      "outputs": [],
      "source": [
        "#As we are using batched data, important to also have batchnorm in network\n",
        "\n",
        "from torch_geometric.nn import GATConv\n",
        "import torch.nn as nn\n",
        "\n",
        "class GAT(torch.nn.Module):\n",
        "    def __init__(self, hidden_layers=32, heads=1, dropout_p=0.0):\n",
        "        super().__init__()\n",
        "        torch.manual_seed(2022)\n",
        "        self.conv1 = GATConv(data.num_node_features, hidden_layers, heads, dropout=dropout_p)\n",
        "        self.bn1 = nn.BatchNorm1d(hidden_layers*heads)\n",
        "        self.conv2 = GATConv(hidden_layers * heads, 1, dropout=dropout_p)\n",
        "\n",
        "    def forward(self, data, dropout_p=0.0):\n",
        "        x, edge_index = data.x, data.edge_index\n",
        "\n",
        "        x = self.conv1(x, edge_index)\n",
        "        x = self.bn1(x)\n",
        "        x = F.relu(x)\n",
        "        x = F.dropout(x, training=self.training)\n",
        "        x = self.conv2(x, edge_index)\n",
        "\n",
        "        return torch.sigmoid(x)\n"
      ]
    },
    {
      "cell_type": "code",
      "execution_count": 35,
      "metadata": {
        "colab": {
          "base_uri": "https://localhost:8080/"
        },
        "id": "atT1mBnnV8_2",
        "outputId": "394172e2-1a86-4fbe-8a81-176a26695bd1"
      },
      "outputs": [
        {
          "output_type": "stream",
          "name": "stdout",
          "text": [
            "Epoch 0 | Loss  81.38 | Accuracy = 82.011% | # True Labels = 40.0\n",
            "Epoch 1 | Loss  76.29 | Accuracy = 84.854% | # True Labels = 51.0\n",
            "Epoch 2 | Loss  75.19 | Accuracy = 86.839% | # True Labels = 53.0\n",
            "Epoch 3 | Loss  74.63 | Accuracy = 82.275% | # True Labels = 51.0\n",
            "Epoch 4 | Loss  74.38 | Accuracy = 86.706% | # True Labels = 46.0\n",
            "Epoch 5 | Loss  74.12 | Accuracy = 83.796% | # True Labels = 55.0\n",
            "Epoch 6 | Loss  74.00 | Accuracy = 83.333% | # True Labels = 55.0\n",
            "Epoch 7 | Loss  73.89 | Accuracy = 85.582% | # True Labels = 55.0\n",
            "Epoch 8 | Loss  73.90 | Accuracy = 84.325% | # True Labels = 52.0\n",
            "Epoch 9 | Loss  73.88 | Accuracy = 85.516% | # True Labels = 49.0\n",
            "Epoch 10 | Loss  73.72 | Accuracy = 86.772% | # True Labels = 47.0\n",
            "Epoch 11 | Loss  73.70 | Accuracy = 84.788% | # True Labels = 47.0\n",
            "Epoch 12 | Loss  73.50 | Accuracy = 83.598% | # True Labels = 50.0\n",
            "Epoch 13 | Loss  73.69 | Accuracy = 84.590% | # True Labels = 52.0\n",
            "Epoch 14 | Loss  73.62 | Accuracy = 83.929% | # True Labels = 55.0\n",
            "Epoch 15 | Loss  73.59 | Accuracy = 87.235% | # True Labels = 57.0\n",
            "Epoch 16 | Loss  73.59 | Accuracy = 85.847% | # True Labels = 55.0\n",
            "Epoch 17 | Loss  73.71 | Accuracy = 86.574% | # True Labels = 56.0\n",
            "Epoch 18 | Loss  73.69 | Accuracy = 81.085% | # True Labels = 50.0\n",
            "Epoch 19 | Loss  73.55 | Accuracy = 83.862% | # True Labels = 58.0\n"
          ]
        }
      ],
      "source": [
        "lr = 0.01\n",
        "epochs = 20\n",
        "\n",
        "model = GAT(hidden_layers = 64,heads=2)\n",
        "model.to(device)\n",
        "\n",
        "optimizer = torch.optim.Adam(model.parameters(), lr=lr,weight_decay=5e-4)\n",
        "criterion = torch.nn.BCELoss()\n",
        "\n",
        "losses = []\n",
        "for e in range(epochs):\n",
        "    epoch_loss = 0.\n",
        "    for i, sampled_data in enumerate(loader):\n",
        "        sampled_data.to(device)\n",
        "\n",
        "        model.train()\n",
        "        optimizer.zero_grad()\n",
        "        out = model(sampled_data)\n",
        "        loss = criterion(out[sampled_data.train_mask], sampled_data.y[sampled_data.train_mask].reshape(-1,1).float())\n",
        "        loss.backward()\n",
        "        epoch_loss += loss.item()\n",
        "\n",
        "        optimizer.step()\n",
        "\n",
        "        #accuracy\n",
        "        ypred = model(sampled_data)\n",
        "        pred = sampled_data.y[sampled_data.test_mask].clone().cpu().detach().numpy()\n",
        "        true = ypred[sampled_data.test_mask].clone().cpu().detach().numpy()\n",
        "        acc = roc_auc_score(pred,true)\n",
        "\n",
        "    losses.append(epoch_loss/batch_size)\n",
        "\n",
        "    print(f'Epoch {e} | Loss {epoch_loss:6.2f} | Accuracy = {100*acc:6.3f}% | # True Labels = {ypred.round().sum()}')\n"
      ]
    },
    {
      "cell_type": "code",
      "execution_count": 37,
      "metadata": {
        "colab": {
          "base_uri": "https://localhost:8080/"
        },
        "id": "BHd3Wk59bIF-",
        "outputId": "593b3d61-365d-44e2-895d-bc1aaa699b0a"
      },
      "outputs": [
        {
          "output_type": "stream",
          "name": "stdout",
          "text": [
            "Final model accuracy for GAT is : 93.1078%\n"
          ]
        }
      ],
      "source": [
        "data.to(device)\n",
        "ypred = model(data)\n",
        "pred = data.y[data.test_mask].clone().cpu().detach().numpy()\n",
        "true = ypred[data.test_mask].clone().cpu().detach().numpy()\n",
        "acc = roc_auc_score(pred,true)\n",
        "print(f\"Final model accuracy for GAT is : {100*acc:.4f}%\")"
      ]
    },
    {
      "cell_type": "code",
      "execution_count": 38,
      "metadata": {
        "colab": {
          "base_uri": "https://localhost:8080/",
          "height": 449
        },
        "id": "FHA64yrhd4zd",
        "outputId": "9eeede6e-3cce-49c4-a9b5-9c43a20100ba"
      },
      "outputs": [
        {
          "output_type": "display_data",
          "data": {
            "text/plain": [
              "<Figure size 640x480 with 1 Axes>"
            ],
            "image/png": "[encoded data removed]"
          },
          "metadata": {}
        }
      ],
      "source": [
        "\n",
        "fpr2, tpr2, _ = roc_curve(pred,true)\n",
        "\n",
        "plt.figure(1)\n",
        "plt.plot([0, 1], [0, 1])\n",
        "plt.plot(fpr, tpr)\n",
        "plt.plot(fpr2, tpr2)\n",
        "plt.xlabel('False positive rate')\n",
        "plt.ylabel('True positive rate')\n",
        "plt.show()"
      ]
    },
    {
      "cell_type": "code",
      "execution_count": 39,
      "metadata": {
        "id": "3KXCxZnDjPpP"
      },
      "outputs": [],
      "source": [
        "# Additional parameters to change:\n",
        "#  - number of epochs\n",
        "#  - number of hidden layers\n",
        "#  - number of heads\n",
        "#  - dropout probability\n",
        "#  - learning rate (optimizer)\n",
        "#  - weight decay rate (optimizer)\n"
      ]
    },
    {
      "cell_type": "markdown",
      "metadata": {
        "id": "c5YUzWZqEaBM"
      },
      "source": [
        "### Advanced:\n",
        "\n",
        "GATv2Conv —> https://arxiv.org/pdf/2105.14491.pdf"
      ]
    },
    {
      "cell_type": "code",
      "execution_count": 40,
      "metadata": {
        "id": "YBSSAV6-WMfL"
      },
      "outputs": [],
      "source": [
        "from torch_geometric.nn import GATv2Conv\n",
        "\n",
        "class GATv2(torch.nn.Module):\n",
        "    def __init__(self, hidden_layers=32, heads=1, dropout_p=0.0):\n",
        "        super().__init__()\n",
        "        torch.manual_seed(2022)\n",
        "        self.conv1 = GATv2Conv(data.num_node_features, hidden_layers, heads, dropout=dropout_p)\n",
        "        self.bn1 = nn.BatchNorm1d(hidden_layers*heads)\n",
        "        self.conv2 = GATv2Conv(hidden_layers * heads, 1, dropout=dropout_p)\n",
        "\n",
        "    def forward(self, data, dropout_p=0.0):\n",
        "        x, edge_index = data.x, data.edge_index\n",
        "\n",
        "        x = self.conv1(x, edge_index)\n",
        "        x = self.bn1(x)\n",
        "        x = F.relu(x)\n",
        "        x = F.dropout(x, training=self.training)\n",
        "        x = self.conv2(x, edge_index)\n",
        "\n",
        "        return torch.sigmoid(x)\n"
      ]
    },
    {
      "cell_type": "code",
      "execution_count": 42,
      "metadata": {
        "colab": {
          "base_uri": "https://localhost:8080/"
        },
        "id": "PZkOjXf-oqNi",
        "outputId": "5396d836-2a8f-4b6c-ef74-728efd39f0e2"
      },
      "outputs": [
        {
          "output_type": "stream",
          "name": "stdout",
          "text": [
            "Epoch 0 | Loss   0.44 | Accuracy = 85.913% | # True Labels = 26.0\n",
            "Epoch 1 | Loss   0.44 | Accuracy = 83.664% | # True Labels = 29.0\n",
            "Epoch 2 | Loss   0.43 | Accuracy = 83.201% | # True Labels = 32.0\n",
            "Epoch 3 | Loss   0.45 | Accuracy = 83.267% | # True Labels = 34.0\n",
            "Epoch 4 | Loss   0.43 | Accuracy = 83.664% | # True Labels = 39.0\n",
            "Epoch 5 | Loss   0.43 | Accuracy = 86.243% | # True Labels = 31.0\n",
            "Epoch 6 | Loss   0.45 | Accuracy = 79.894% | # True Labels = 35.0\n",
            "Epoch 7 | Loss   0.43 | Accuracy = 85.516% | # True Labels = 37.0\n",
            "Epoch 8 | Loss   0.45 | Accuracy = 79.101% | # True Labels = 36.0\n",
            "Epoch 9 | Loss   0.42 | Accuracy = 86.045% | # True Labels = 31.0\n",
            "Epoch 10 | Loss   0.43 | Accuracy = 84.193% | # True Labels = 31.0\n",
            "Epoch 11 | Loss   0.43 | Accuracy = 80.886% | # True Labels = 33.0\n",
            "Epoch 12 | Loss   0.43 | Accuracy = 82.275% | # True Labels = 34.0\n",
            "Epoch 13 | Loss   0.42 | Accuracy = 82.606% | # True Labels = 36.0\n",
            "Epoch 14 | Loss   0.45 | Accuracy = 84.061% | # True Labels = 33.0\n",
            "Epoch 15 | Loss   0.44 | Accuracy = 81.548% | # True Labels = 38.0\n",
            "Epoch 16 | Loss   0.43 | Accuracy = 79.828% | # True Labels = 40.0\n",
            "Epoch 17 | Loss   0.42 | Accuracy = 83.466% | # True Labels = 36.0\n",
            "Epoch 18 | Loss   0.42 | Accuracy = 84.987% | # True Labels = 32.0\n",
            "Epoch 19 | Loss   0.44 | Accuracy = 80.026% | # True Labels = 32.0\n"
          ]
        }
      ],
      "source": [
        "lr = 0.01\n",
        "epochs = 20\n",
        "\n",
        "model = GATv2(hidden_layers = 64,heads=1)\n",
        "model.to(device)\n",
        "\n",
        "optimizer = torch.optim.Adam(model.parameters(), lr=lr,weight_decay=5e-4)\n",
        "\n",
        "\n",
        "criterion = torch.nn.BCELoss()\n",
        "\n",
        "losses = []\n",
        "for e in range(epochs):\n",
        "    epoch_loss = 0.\n",
        "    for i, sampled_data in enumerate(loader):\n",
        "        sampled_data.to(device)\n",
        "\n",
        "        model.train()\n",
        "        optimizer.zero_grad()\n",
        "        out = model(sampled_data)\n",
        "        loss = criterion(out[sampled_data.train_mask], sampled_data.y[sampled_data.train_mask].reshape(-1,1).float())\n",
        "        loss.backward()\n",
        "        epoch_loss += loss.item()\n",
        "\n",
        "        optimizer.step()\n",
        "\n",
        "        #accuracy\n",
        "        ypred = model(sampled_data)\n",
        "        pred = sampled_data.y[sampled_data.test_mask].clone().cpu().detach().numpy()\n",
        "        true = ypred[sampled_data.test_mask].clone().cpu().detach().numpy()\n",
        "        acc = roc_auc_score(pred,true)\n",
        "\n",
        "    losses.append(epoch_loss/batch_size)\n",
        "\n",
        "    print(f'Epoch {e} | Loss {loss:6.2f} | Accuracy = {100*acc:6.3f}% | # True Labels = {ypred.round().sum()}')\n"
      ]
    },
    {
      "cell_type": "code",
      "execution_count": 45,
      "metadata": {
        "colab": {
          "base_uri": "https://localhost:8080/"
        },
        "id": "VLVQfTaEDMrN",
        "outputId": "1fca945b-37d3-40dd-d5d2-49ee3e4a7873"
      },
      "outputs": [
        {
          "output_type": "stream",
          "name": "stdout",
          "text": [
            "Final model accuracy for GATv2 is : 92.3394%\n"
          ]
        }
      ],
      "source": [
        "data.to(device)\n",
        "ypred = model(data)\n",
        "pred = data.y[data.test_mask].clone().cpu().detach().numpy()\n",
        "true = ypred[data.test_mask].clone().cpu().detach().numpy()\n",
        "acc = roc_auc_score(pred,true)\n",
        "print(f\"Final model accuracy for GATv2 is : {100*acc:.4f}%\")"
      ]
    },
    {
      "cell_type": "code",
      "source": [],
      "metadata": {
        "id": "KTs4Ciy9ql2G"
      },
      "execution_count": null,
      "outputs": []
    }
  ],
  "metadata": {
    "accelerator": "GPU",
    "colab": {
      "machine_shape": "hm",
      "provenance": [],
      "gpuType": "A100"
    },
    "kernelspec": {
      "display_name": "Python 3",
      "name": "python3"
    },
    "language_info": {
      "name": "python"
    }
  },
  "nbformat": 4,
  "nbformat_minor": 0
}