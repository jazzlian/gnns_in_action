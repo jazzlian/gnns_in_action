{
  "nbformat": 4,
  "nbformat_minor": 0,
  "metadata": {
    "colab": {
      "name": "GNNinAction Section 4-2.ipynb",
      "provenance": [],
      "collapsed_sections": []
    },
    "kernelspec": {
      "display_name": "Python 3",
      "name": "python3"
    },
    "widgets": {
      "application/vnd.jupyter.widget-state+json": {
        "cf3ec6cd39d645a1a0da747fe72a4f1f": {
          "model_module": "@jupyter-widgets/controls",
          "model_name": "HBoxModel",
          "state": {
            "_view_name": "HBoxView",
            "_dom_classes": [],
            "_model_name": "HBoxModel",
            "_view_module": "@jupyter-widgets/controls",
            "_model_module_version": "1.5.0",
            "_view_count": null,
            "_view_module_version": "1.5.0",
            "box_style": "",
            "layout": "IPY_MODEL_57a984016d9a401084aa142b219a8c6f",
            "_model_module": "@jupyter-widgets/controls",
            "children": [
              "IPY_MODEL_f39a8937922749e09388d6caf019f2ca",
              "IPY_MODEL_4dfb314e3b9b48d583332d9027726305"
            ]
          }
        },
        "57a984016d9a401084aa142b219a8c6f": {
          "model_module": "@jupyter-widgets/base",
          "model_name": "LayoutModel",
          "state": {
            "_view_name": "LayoutView",
            "grid_template_rows": null,
            "right": null,
            "justify_content": null,
            "_view_module": "@jupyter-widgets/base",
            "overflow": null,
            "_model_module_version": "1.2.0",
            "_view_count": null,
            "flex_flow": null,
            "width": null,
            "min_width": null,
            "border": null,
            "align_items": null,
            "bottom": null,
            "_model_module": "@jupyter-widgets/base",
            "top": null,
            "grid_column": null,
            "overflow_y": null,
            "overflow_x": null,
            "grid_auto_flow": null,
            "grid_area": null,
            "grid_template_columns": null,
            "flex": null,
            "_model_name": "LayoutModel",
            "justify_items": null,
            "grid_row": null,
            "max_height": null,
            "align_content": null,
            "visibility": null,
            "align_self": null,
            "height": null,
            "min_height": null,
            "padding": null,
            "grid_auto_rows": null,
            "grid_gap": null,
            "max_width": null,
            "order": null,
            "_view_module_version": "1.2.0",
            "grid_template_areas": null,
            "object_position": null,
            "object_fit": null,
            "grid_auto_columns": null,
            "margin": null,
            "display": null,
            "left": null
          }
        },
        "f39a8937922749e09388d6caf019f2ca": {
          "model_module": "@jupyter-widgets/controls",
          "model_name": "FloatProgressModel",
          "state": {
            "_view_name": "ProgressView",
            "style": "IPY_MODEL_a23f63ff0295420c91377e305b4fb21a",
            "_dom_classes": [],
            "description": "Computing transition probabilities: 100%",
            "_model_name": "FloatProgressModel",
            "bar_style": "success",
            "max": 1698,
            "_view_module": "@jupyter-widgets/controls",
            "_model_module_version": "1.5.0",
            "value": 1698,
            "_view_count": null,
            "_view_module_version": "1.5.0",
            "orientation": "horizontal",
            "min": 0,
            "description_tooltip": null,
            "_model_module": "@jupyter-widgets/controls",
            "layout": "IPY_MODEL_f8eac22c181d494ab4f06a1425b9256e"
          }
        },
        "4dfb314e3b9b48d583332d9027726305": {
          "model_module": "@jupyter-widgets/controls",
          "model_name": "HTMLModel",
          "state": {
            "_view_name": "HTMLView",
            "style": "IPY_MODEL_a3e44b839c3c42e28b2f337d7b707ec3",
            "_dom_classes": [],
            "description": "",
            "_model_name": "HTMLModel",
            "placeholder": "​",
            "_view_module": "@jupyter-widgets/controls",
            "_model_module_version": "1.5.0",
            "value": " 1698/1698 [00:13&lt;00:00, 128.34it/s]",
            "_view_count": null,
            "_view_module_version": "1.5.0",
            "description_tooltip": null,
            "_model_module": "@jupyter-widgets/controls",
            "layout": "IPY_MODEL_bffd6d36edbb499982f21464bc504542"
          }
        },
        "a23f63ff0295420c91377e305b4fb21a": {
          "model_module": "@jupyter-widgets/controls",
          "model_name": "ProgressStyleModel",
          "state": {
            "_view_name": "StyleView",
            "_model_name": "ProgressStyleModel",
            "description_width": "initial",
            "_view_module": "@jupyter-widgets/base",
            "_model_module_version": "1.5.0",
            "_view_count": null,
            "_view_module_version": "1.2.0",
            "bar_color": null,
            "_model_module": "@jupyter-widgets/controls"
          }
        },
        "f8eac22c181d494ab4f06a1425b9256e": {
          "model_module": "@jupyter-widgets/base",
          "model_name": "LayoutModel",
          "state": {
            "_view_name": "LayoutView",
            "grid_template_rows": null,
            "right": null,
            "justify_content": null,
            "_view_module": "@jupyter-widgets/base",
            "overflow": null,
            "_model_module_version": "1.2.0",
            "_view_count": null,
            "flex_flow": null,
            "width": null,
            "min_width": null,
            "border": null,
            "align_items": null,
            "bottom": null,
            "_model_module": "@jupyter-widgets/base",
            "top": null,
            "grid_column": null,
            "overflow_y": null,
            "overflow_x": null,
            "grid_auto_flow": null,
            "grid_area": null,
            "grid_template_columns": null,
            "flex": null,
            "_model_name": "LayoutModel",
            "justify_items": null,
            "grid_row": null,
            "max_height": null,
            "align_content": null,
            "visibility": null,
            "align_self": null,
            "height": null,
            "min_height": null,
            "padding": null,
            "grid_auto_rows": null,
            "grid_gap": null,
            "max_width": null,
            "order": null,
            "_view_module_version": "1.2.0",
            "grid_template_areas": null,
            "object_position": null,
            "object_fit": null,
            "grid_auto_columns": null,
            "margin": null,
            "display": null,
            "left": null
          }
        },
        "a3e44b839c3c42e28b2f337d7b707ec3": {
          "model_module": "@jupyter-widgets/controls",
          "model_name": "DescriptionStyleModel",
          "state": {
            "_view_name": "StyleView",
            "_model_name": "DescriptionStyleModel",
            "description_width": "",
            "_view_module": "@jupyter-widgets/base",
            "_model_module_version": "1.5.0",
            "_view_count": null,
            "_view_module_version": "1.2.0",
            "_model_module": "@jupyter-widgets/controls"
          }
        },
        "bffd6d36edbb499982f21464bc504542": {
          "model_module": "@jupyter-widgets/base",
          "model_name": "LayoutModel",
          "state": {
            "_view_name": "LayoutView",
            "grid_template_rows": null,
            "right": null,
            "justify_content": null,
            "_view_module": "@jupyter-widgets/base",
            "overflow": null,
            "_model_module_version": "1.2.0",
            "_view_count": null,
            "flex_flow": null,
            "width": null,
            "min_width": null,
            "border": null,
            "align_items": null,
            "bottom": null,
            "_model_module": "@jupyter-widgets/base",
            "top": null,
            "grid_column": null,
            "overflow_y": null,
            "overflow_x": null,
            "grid_auto_flow": null,
            "grid_area": null,
            "grid_template_columns": null,
            "flex": null,
            "_model_name": "LayoutModel",
            "justify_items": null,
            "grid_row": null,
            "max_height": null,
            "align_content": null,
            "visibility": null,
            "align_self": null,
            "height": null,
            "min_height": null,
            "padding": null,
            "grid_auto_rows": null,
            "grid_gap": null,
            "max_width": null,
            "order": null,
            "_view_module_version": "1.2.0",
            "grid_template_areas": null,
            "object_position": null,
            "object_fit": null,
            "grid_auto_columns": null,
            "margin": null,
            "display": null,
            "left": null
          }
        }
      }
    }
  },
  "cells": [
    {
      "cell_type": "markdown",
      "metadata": {
        "id": "aN3DorwLJF9n"
      },
      "source": [
        "***Using Node2Vec to Create Node Embeddings***\n",
        "\n",
        "This notebook uses an implementation of node2vec algorithm to generate node embeddings. \n",
        "\n",
        "This notebook will start an adjacency list file and:\n",
        "1. Load this graph into NetworkX, and using the largest connnected component.\n",
        "2. Useh the Node2Vec library to generate embeddings, saved to a file.\n",
        "3. Use T-SNE to reduce the dimensionality of these embeddings.\n",
        "4. Visualize the embeddings in 2-dimensions."
      ]
    },
    {
      "cell_type": "markdown",
      "metadata": {
        "id": "7nIf5fUjJUis"
      },
      "source": [
        "First, install libraries."
      ]
    },
    {
      "cell_type": "code",
      "metadata": {
        "colab": {
          "base_uri": "https://localhost:8080/"
        },
        "id": "ssveJkJmOAnQ",
        "outputId": "3d68bc37-32d7-44a3-953d-ed2b81d18a7b"
      },
      "source": [
        "! pip install node2vec\n",
        "! pip install karateclub"
      ],
      "execution_count": null,
      "outputs": [
        {
          "output_type": "stream",
          "text": [
            "Requirement already satisfied: node2vec in /usr/local/lib/python3.7/dist-packages (0.4.3)\n",
            "Requirement already satisfied: joblib>=0.13.2 in /usr/local/lib/python3.7/dist-packages (from node2vec) (1.0.1)\n",
            "Requirement already satisfied: tqdm in /usr/local/lib/python3.7/dist-packages (from node2vec) (4.41.1)\n",
            "Requirement already satisfied: gensim in /usr/local/lib/python3.7/dist-packages (from node2vec) (3.8.3)\n",
            "Requirement already satisfied: networkx in /usr/local/lib/python3.7/dist-packages (from node2vec) (2.5.1)\n",
            "Requirement already satisfied: numpy in /usr/local/lib/python3.7/dist-packages (from node2vec) (1.19.5)\n",
            "Requirement already satisfied: smart-open>=1.8.1 in /usr/local/lib/python3.7/dist-packages (from gensim->node2vec) (5.0.0)\n",
            "Requirement already satisfied: scipy>=0.18.1 in /usr/local/lib/python3.7/dist-packages (from gensim->node2vec) (1.4.1)\n",
            "Requirement already satisfied: six>=1.5.0 in /usr/local/lib/python3.7/dist-packages (from gensim->node2vec) (1.15.0)\n",
            "Requirement already satisfied: decorator<5,>=4.3 in /usr/local/lib/python3.7/dist-packages (from networkx->node2vec) (4.4.2)\n",
            "Requirement already satisfied: karateclub in /usr/local/lib/python3.7/dist-packages (1.0.24)\n",
            "Requirement already satisfied: scikit-learn in /usr/local/lib/python3.7/dist-packages (from karateclub) (0.22.2.post1)\n",
            "Requirement already satisfied: pandas in /usr/local/lib/python3.7/dist-packages (from karateclub) (1.1.5)\n",
            "Requirement already satisfied: scipy in /usr/local/lib/python3.7/dist-packages (from karateclub) (1.4.1)\n",
            "Requirement already satisfied: python-louvain in /usr/local/lib/python3.7/dist-packages (from karateclub) (0.15)\n",
            "Requirement already satisfied: six in /usr/local/lib/python3.7/dist-packages (from karateclub) (1.15.0)\n",
            "Requirement already satisfied: numpy in /usr/local/lib/python3.7/dist-packages (from karateclub) (1.19.5)\n",
            "Requirement already satisfied: tqdm in /usr/local/lib/python3.7/dist-packages (from karateclub) (4.41.1)\n",
            "Requirement already satisfied: networkx in /usr/local/lib/python3.7/dist-packages (from karateclub) (2.5.1)\n",
            "Requirement already satisfied: pygsp in /usr/local/lib/python3.7/dist-packages (from karateclub) (0.5.1)\n",
            "Requirement already satisfied: gensim==3.8.3 in /usr/local/lib/python3.7/dist-packages (from karateclub) (3.8.3)\n",
            "Requirement already satisfied: joblib>=0.11 in /usr/local/lib/python3.7/dist-packages (from scikit-learn->karateclub) (1.0.1)\n",
            "Requirement already satisfied: python-dateutil>=2.7.3 in /usr/local/lib/python3.7/dist-packages (from pandas->karateclub) (2.8.1)\n",
            "Requirement already satisfied: pytz>=2017.2 in /usr/local/lib/python3.7/dist-packages (from pandas->karateclub) (2018.9)\n",
            "Requirement already satisfied: decorator<5,>=4.3 in /usr/local/lib/python3.7/dist-packages (from networkx->karateclub) (4.4.2)\n",
            "Requirement already satisfied: smart-open>=1.8.1 in /usr/local/lib/python3.7/dist-packages (from gensim==3.8.3->karateclub) (5.0.0)\n"
          ],
          "name": "stdout"
        }
      ]
    },
    {
      "cell_type": "code",
      "metadata": {
        "id": "ldM1RYMjS1IO",
        "colab": {
          "base_uri": "https://localhost:8080/"
        },
        "outputId": "1d12f498-2001-4536-f138-f108b6d28bb1"
      },
      "source": [
        "# load data\n",
        "\n",
        "!gdown --id 1jbPTV9RP0plLH524PZqsiVYpClG73829 # download sample edge list file\n",
        "!gdown --id 1IVMAltcyqtxBOY4PwHktNZuj3KYytAkP # download sample adjacency list file\n",
        "!gdown --id 1gL63dwzlfjSfBHl8b-JRjBnjyRBhbHAZ # download node attributes csv file\n",
        "\n"
      ],
      "execution_count": null,
      "outputs": [
        {
          "output_type": "stream",
          "text": [
            "Downloading...\n",
            "From: https://drive.google.com/uc?id=1jbPTV9RP0plLH524PZqsiVYpClG73829\n",
            "To: /content/edge_list_testlatest.txt\n",
            "100% 1.02M/1.02M [00:00<00:00, 65.4MB/s]\n",
            "Downloading...\n",
            "From: https://drive.google.com/uc?id=1IVMAltcyqtxBOY4PwHktNZuj3KYytAkP\n",
            "To: /content/adjacency_list_test.txt\n",
            "100% 1.08M/1.08M [00:00<00:00, 71.3MB/s]\n",
            "Downloading...\n",
            "From: https://drive.google.com/uc?id=1gL63dwzlfjSfBHl8b-JRjBnjyRBhbHAZ\n",
            "To: /content/node_attributes_hashed.csv\n",
            "100% 155k/155k [00:00<00:00, 57.1MB/s]\n"
          ],
          "name": "stdout"
        }
      ]
    },
    {
      "cell_type": "code",
      "metadata": {
        "id": "dHBrdHpkSgzP"
      },
      "source": [
        "from node2vec import Node2Vec\n",
        "import networkx as nx\n",
        "import pandas as pd\n",
        "import numpy as np\n",
        "import json\n",
        "from itertools import count\n",
        "\n",
        "\n",
        "from sklearn.manifold import TSNE\n",
        "from sklearn.model_selection import train_test_split \n",
        "from sklearn.ensemble import RandomForestClassifier \n",
        "\n",
        "from multiprocessing import Pool\n",
        "import matplotlib.pyplot as plt\n",
        "%matplotlib inline  \n"
      ],
      "execution_count": null,
      "outputs": []
    },
    {
      "cell_type": "markdown",
      "metadata": {
        "id": "4kifZ4oJ5Ybn"
      },
      "source": [
        "Load the graph data into NetworkX.\n",
        "\n",
        "Then read in the node attributes and affix them to the NetworkX graph."
      ]
    },
    {
      "cell_type": "code",
      "metadata": {
        "colab": {
          "base_uri": "https://localhost:8080/"
        },
        "id": "1abmoxwqOLGM",
        "outputId": "7c14979c-c992-4901-aa94-3c96228b4ef2"
      },
      "source": [
        "# social_graph = nx.read_edgelist('edge_list_testlatest.txt') # This can also be run with the edgelist version of the data\n",
        "social_graph = nx.read_adjlist('adjacency_list_test.txt')\n",
        "\n",
        "\n",
        "node_attr = pd.read_csv('/content/node_attributes_hashed.csv', encoding = \"ISO-8859-1\")\n",
        "node_attr = node_attr[['hashedid','company_type','position_type']]\n",
        "node_attr.info()\n",
        "social_graph.number_of_edges(), social_graph.number_of_nodes()\n",
        "\n",
        "node_attr = node_attr.set_index('hashedid')\n",
        "attribute_dict = node_attr.to_dict(orient='index')\n",
        "nx.set_node_attributes(social_graph, attribute_dict)"
      ],
      "execution_count": null,
      "outputs": [
        {
          "output_type": "stream",
          "text": [
            "<class 'pandas.core.frame.DataFrame'>\n",
            "RangeIndex: 1947 entries, 0 to 1946\n",
            "Data columns (total 3 columns):\n",
            " #   Column         Non-Null Count  Dtype \n",
            "---  ------         --------------  ----- \n",
            " 0   hashedid       1947 non-null   object\n",
            " 1   company_type   1947 non-null   object\n",
            " 2   position_type  1947 non-null   object\n",
            "dtypes: object(3)\n",
            "memory usage: 45.8+ KB\n"
          ],
          "name": "stdout"
        }
      ]
    },
    {
      "cell_type": "markdown",
      "metadata": {
        "id": "znmciz7v8FR2"
      },
      "source": [
        "Our original graph is disconnected. So, we only deal with its largest connected component."
      ]
    },
    {
      "cell_type": "code",
      "metadata": {
        "colab": {
          "base_uri": "https://localhost:8080/"
        },
        "id": "yUituytV8E-0",
        "outputId": "381d21cb-1074-4aa1-a6a9-8c0791a5376f"
      },
      "source": [
        "social_graph = social_graph.subgraph(sorted(nx.connected_components(social_graph), key=len, reverse=True)[0])  #A\n",
        "\n",
        "social_graph.number_of_edges(), social_graph.number_of_nodes()"
      ],
      "execution_count": null,
      "outputs": [
        {
          "output_type": "execute_result",
          "data": {
            "text/plain": [
              "(12222, 1698)"
            ]
          },
          "metadata": {
            "tags": []
          },
          "execution_count": 5
        }
      ]
    },
    {
      "cell_type": "markdown",
      "metadata": {
        "id": "IpJuNaAG8YL1"
      },
      "source": [
        "For visualization purposes, namely, to colorize our nodes, we encode the *company_type* attributes. Later on, we will use this encoding as a color map. "
      ]
    },
    {
      "cell_type": "code",
      "metadata": {
        "id": "d6jRcM4zX6Mn"
      },
      "source": [
        "groups = set(nx.get_node_attributes(social_graph,'company_type').values())\n",
        "nx.get_node_attributes(social_graph,'company_type')\n",
        "mapping = dict(zip(sorted(groups),count()))\n",
        "attr_values = [mapping[attribute_dict[node]['company_type']] for node in social_graph.nodes()]"
      ],
      "execution_count": null,
      "outputs": []
    },
    {
      "cell_type": "markdown",
      "metadata": {
        "id": "ATSdb6Ub8ZNU"
      },
      "source": [
        "Generate the node embeddings.\n",
        "\n",
        "* #A  Precompute probabilities and generate walks \n",
        "* #B Generate embeddings. The batch_words parameter is because much of this function is derived from the Word2Vec algorithm.\n",
        "* #C Save embedding in a file to disk.\n"
      ]
    },
    {
      "cell_type": "code",
      "metadata": {
        "colab": {
          "base_uri": "https://localhost:8080/",
          "height": 66,
          "referenced_widgets": [
            "cf3ec6cd39d645a1a0da747fe72a4f1f",
            "57a984016d9a401084aa142b219a8c6f",
            "f39a8937922749e09388d6caf019f2ca",
            "4dfb314e3b9b48d583332d9027726305",
            "a23f63ff0295420c91377e305b4fb21a",
            "f8eac22c181d494ab4f06a1425b9256e",
            "a3e44b839c3c42e28b2f337d7b707ec3",
            "bffd6d36edbb499982f21464bc504542"
          ]
        },
        "id": "q8OUrdsZS-Ge",
        "outputId": "a6d3ed0f-a8f2-44a9-895f-8cba416fd0d9"
      },
      "source": [
        "node2vec = Node2Vec(social_graph, dimensions=64, walk_length=30, num_walks=200, workers=4)  #A\n",
        "model = node2vec.fit(window=10, min_count=1, batch_words=4)  #B \n",
        "model.wv.save_word2vec_format('EMBEDDING_FILENAME') #C\n"
      ],
      "execution_count": null,
      "outputs": [
        {
          "output_type": "display_data",
          "data": {
            "application/vnd.jupyter.widget-view+json": {
              "model_id": "cf3ec6cd39d645a1a0da747fe72a4f1f",
              "version_minor": 0,
              "version_major": 2
            },
            "text/plain": [
              "HBox(children=(FloatProgress(value=0.0, description='Computing transition probabilities', max=1698.0, style=Pr…"
            ]
          },
          "metadata": {
            "tags": []
          }
        },
        {
          "output_type": "stream",
          "text": [
            "\n"
          ],
          "name": "stdout"
        }
      ]
    },
    {
      "cell_type": "markdown",
      "metadata": {
        "id": "9dcYFikR8alF"
      },
      "source": [
        "Read in the embeddings that were saved to disk.\n"
      ]
    },
    {
      "cell_type": "code",
      "metadata": {
        "id": "vcPRMyt7S-28"
      },
      "source": [
        "with open(\"EMBEDDING_FILENAME\", \"r\") as social:\n",
        "    lines = social.readlines()\n",
        "\n",
        "embedded_lines = [x.split(' ')[1:] for x in lines[1:]] \n",
        "n2v_embeddings = []\n",
        "for line in embedded_lines:\n",
        "    new_line = [float(y) for y in line] #B\n",
        "    n2v_embeddings.append(new_line)"
      ],
      "execution_count": null,
      "outputs": []
    },
    {
      "cell_type": "code",
      "metadata": {
        "id": "yEymodZCU3Ux"
      },
      "source": [
        "# n2v_embeddings"
      ],
      "execution_count": null,
      "outputs": []
    },
    {
      "cell_type": "markdown",
      "metadata": {
        "id": "dvBYFLje8dhX"
      },
      "source": [
        "Finally, use T-SNE to reduce the dimension of the embeddings and visualize using matplotlib. Colors correspond to company_type.\n"
      ]
    },
    {
      "cell_type": "code",
      "metadata": {
        "colab": {
          "base_uri": "https://localhost:8080/",
          "height": 265
        },
        "id": "fywne7wpTEoH",
        "outputId": "8f9fb751-7972-46c7-d34f-7a532c300362"
      },
      "source": [
        "tsne_model = TSNE(learning_rate=800,  metric='cosine', n_iter=500)\n",
        "tsne_features = tsne_model.fit_transform(n2v_embeddings)\n",
        "\n",
        "# Select the 0th feature: xs\n",
        "xs = tsne_features[:,0]\n",
        "# Select the 1st feature: ys\n",
        "ys = tsne_features[:,1]\n",
        "\n",
        "plt.scatter(xs,ys, c=attr_values)\n",
        "plt.show()\n"
      ],
      "execution_count": null,
      "outputs": [
        {
          "output_type": "display_data",
          "data": {
            "image/png": "[encoded data removed]",
            "text/plain": [
              "<Figure size 432x288 with 1 Axes>"
            ]
          },
          "metadata": {
            "tags": [],
            "needs_background": "light"
          }
        }
      ]
    }
  ]
}